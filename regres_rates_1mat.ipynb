{
 "cells": [
  {
   "cell_type": "code",
   "execution_count": 1,
   "id": "7f5900ab",
   "metadata": {
    "colab": {
     "base_uri": "https://localhost:8080/"
    },
    "executionInfo": {
     "elapsed": 9736,
     "status": "ok",
     "timestamp": 1754960494344,
     "user": {
      "displayName": "Nikita Novikov",
      "userId": "15013732921515692014"
     },
     "user_tz": 240
    },
    "id": "7f5900ab",
    "outputId": "2c86f183-0416-4ee0-da57-fa578195ec54"
   },
   "outputs": [
    {
     "name": "stdout",
     "output_type": "stream",
     "text": [
      "cpu\n"
     ]
    }
   ],
   "source": [
    "%matplotlib inline\n",
    "\n",
    "import matplotlib.pyplot as plt\n",
    "import numpy as np\n",
    "import pandas as pd\n",
    "import xarray as xr\n",
    "\n",
    "from IPython.display import clear_output, display\n",
    "\n",
    "from sklearn.model_selection import train_test_split\n",
    "\n",
    "import torch\n",
    "import torch.nn as nn\n",
    "import torch.optim as optim\n",
    "\n",
    "device = \"cuda\" if torch.cuda.is_available() else \"cpu\"\n",
    "print(device)"
   ]
  },
  {
   "cell_type": "code",
   "execution_count": 2,
   "id": "nN-8CPIG5IAW",
   "metadata": {
    "colab": {
     "base_uri": "https://localhost:8080/"
    },
    "executionInfo": {
     "elapsed": 31681,
     "status": "ok",
     "timestamp": 1754960526032,
     "user": {
      "displayName": "Nikita Novikov",
      "userId": "15013732921515692014"
     },
     "user_tz": 240
    },
    "id": "nN-8CPIG5IAW",
    "outputId": "12f894c3-45e9-4337-ece8-f2050aba69f2"
   },
   "outputs": [],
   "source": [
    "#from google.colab import drive\n",
    "#drive.mount('/content/drive')\n",
    "\n",
    "from pathlib import Path\n",
    "#dirpath_root = Path('/content/drive/MyDrive/repo/pytorch_test')\n",
    "dirpath_root = Path().resolve()\n"
   ]
  },
  {
   "cell_type": "code",
   "execution_count": 3,
   "id": "8dc97b7b",
   "metadata": {
    "colab": {
     "base_uri": "https://localhost:8080/"
    },
    "executionInfo": {
     "elapsed": 5155,
     "status": "ok",
     "timestamp": 1754960531180,
     "user": {
      "displayName": "Nikita Novikov",
      "userId": "15013732921515692014"
     },
     "user_tz": 240
    },
    "id": "8dc97b7b",
    "outputId": "bad35c16-0283-45a3-f8a7-6a5428852f7d"
   },
   "outputs": [
    {
     "name": "stdout",
     "output_type": "stream",
     "text": [
      "Frozen({'point': 2736, 'pop': 2})\n"
     ]
    }
   ],
   "source": [
    "fname = 'rates_ws_1_nw_100_wsel_2_npts_5000_rmarg_0.01_seed_113'\n",
    "\n",
    "data = xr.open_dataset(dirpath_root / 'data' / 'rates_2pop_1mat' / f'{fname}.nc')\n",
    "print(data.sizes)\n",
    "\n",
    "# Features\n",
    "X = data['H']\n",
    "X = torch.from_numpy(X.values).type(torch.float)\n",
    "\n",
    "# Target\n",
    "y = data['R']\n",
    "y = torch.from_numpy(y.values).type(torch.float)"
   ]
  },
  {
   "cell_type": "code",
   "execution_count": 4,
   "id": "34787b13",
   "metadata": {
    "colab": {
     "base_uri": "https://localhost:8080/",
     "height": 423
    },
    "collapsed": true,
    "executionInfo": {
     "elapsed": 59,
     "status": "ok",
     "timestamp": 1754900236115,
     "user": {
      "displayName": "Nikita Novikov",
      "userId": "15013732921515692014"
     },
     "user_tz": 240
    },
    "id": "34787b13",
    "outputId": "9675ba11-d179-4a62-d1bc-bc953abdd53c"
   },
   "outputs": [
    {
     "data": {
      "application/vnd.microsoft.datawrangler.viewer.v0+json": {
       "columns": [
        {
         "name": "index",
         "rawType": "int64",
         "type": "integer"
        },
        {
         "name": "h1",
         "rawType": "float32",
         "type": "float"
        },
        {
         "name": "h2",
         "rawType": "float32",
         "type": "float"
        },
        {
         "name": "r1",
         "rawType": "float32",
         "type": "float"
        },
        {
         "name": "r2",
         "rawType": "float32",
         "type": "float"
        }
       ],
       "ref": "ccb1a400-fb00-4ee3-a962-19275ae72195",
       "rows": [
        [
         "0",
         "7.532477",
         "3.1032672",
         "9.956944",
         "6.7460113"
        ],
        [
         "1",
         "1.1683211",
         "0.12386442",
         "4.077924",
         "9.375143"
        ],
        [
         "2",
         "5.9219313",
         "3.3400304",
         "9.959578",
         "3.256295"
        ],
        [
         "3",
         "-3.6032813",
         "-4.380395",
         "0.30524024",
         "7.07572"
        ],
        [
         "4",
         "1.5132751",
         "1.8557624",
         "7.457316",
         "8.820196"
        ],
        [
         "5",
         "-0.5178876",
         "-3.29952",
         "1.4213685",
         "8.1139345"
        ],
        [
         "6",
         "-3.6628013",
         "-3.5528262",
         "1.3458239",
         "1.942729"
        ],
        [
         "7",
         "-5.2552695",
         "-4.108542",
         "0.39383826",
         "2.8121967"
        ],
        [
         "8",
         "-2.262707",
         "0.75098836",
         "7.499266",
         "1.1948968"
        ],
        [
         "9",
         "1.8167359",
         "2.2315338",
         "8.517566",
         "8.162615"
        ],
        [
         "10",
         "1.098819",
         "-0.20719661",
         "3.8087034",
         "9.324062"
        ],
        [
         "11",
         "1.0953908",
         "3.00627",
         "9.561869",
         "2.7600646"
        ],
        [
         "12",
         "1.4671568",
         "1.7474067",
         "6.8384433",
         "9.113394"
        ],
        [
         "13",
         "1.3092788",
         "0.91382843",
         "4.7376657",
         "9.474452"
        ],
        [
         "14",
         "1.2879921",
         "0.78540105",
         "4.6073403",
         "9.465622"
        ],
        [
         "15",
         "1.3168831",
         "0.9604593",
         "4.779852",
         "9.478883"
        ],
        [
         "16",
         "-1.5481038",
         "1.7692701",
         "8.336915",
         "1.7005252"
        ],
        [
         "17",
         "-3.2915716",
         "-3.139377",
         "2.5032017",
         "1.1844033"
        ],
        [
         "18",
         "-2.8514225",
         "-0.99406654",
         "6.2462273",
         "0.68200904"
        ],
        [
         "19",
         "2.0089004",
         "2.3711965",
         "8.796079",
         "7.960103"
        ],
        [
         "20",
         "-0.5887754",
         "2.4663243",
         "8.991182",
         "2.201844"
        ],
        [
         "21",
         "1.0843537",
         "-0.2711725",
         "3.7465503",
         "9.317099"
        ],
        [
         "22",
         "-3.1230588",
         "-2.470141",
         "4.938926",
         "0.510551"
        ],
        [
         "23",
         "-5.2435403",
         "-4.521041",
         "0.13458917",
         "6.90961"
        ],
        [
         "24",
         "-7.0791583",
         "-4.5861964",
         "0.05409116",
         "6.808072"
        ],
        [
         "25",
         "-2.2250168",
         "0.8241851",
         "7.5687065",
         "1.2144558"
        ],
        [
         "26",
         "-1.5739845",
         "1.7424623",
         "8.32033",
         "1.6739277"
        ],
        [
         "27",
         "-4.5051036",
         "-3.941599",
         "0.6564265",
         "2.5104568"
        ],
        [
         "28",
         "6.3329425",
         "3.0753891",
         "9.918694",
         "6.8542757"
        ],
        [
         "29",
         "-7.4316726",
         "-4.5930576",
         "0.04525532",
         "6.80809"
        ],
        [
         "30",
         "-4.6620393",
         "-4.4839625",
         "0.17888923",
         "6.976512"
        ],
        [
         "31",
         "-2.5947318",
         "-0.060153384",
         "6.9228225",
         "0.90204257"
        ],
        [
         "32",
         "10.309795",
         "3.1285818",
         "9.989293",
         "6.7650914"
        ],
        [
         "33",
         "7.2045717",
         "3.3547113",
         "9.979002",
         "3.2198844"
        ],
        [
         "34",
         "-2.6605074",
         "-0.26689717",
         "6.780448",
         "0.8423317"
        ],
        [
         "35",
         "-3.538659",
         "-3.4518852",
         "1.5982277",
         "1.7240531"
        ],
        [
         "36",
         "-3.0743825",
         "-2.1734662",
         "5.3333898",
         "0.5075684"
        ],
        [
         "37",
         "1.3079808",
         "0.9093732",
         "4.658984",
         "9.492265"
        ],
        [
         "38",
         "1.3236425",
         "1.0058453",
         "4.7509017",
         "9.499921"
        ],
        [
         "39",
         "-9.190502",
         "-4.613948",
         "0.01875081",
         "6.7895803"
        ],
        [
         "40",
         "2.8550453",
         "2.716587",
         "9.39236",
         "7.4559135"
        ],
        [
         "41",
         "-3.218435",
         "-2.9766736",
         "3.7909687",
         "0.6492463"
        ],
        [
         "42",
         "2.0511684",
         "2.3976805",
         "8.830599",
         "7.959121"
        ],
        [
         "43",
         "-2.6764336",
         "-0.32048893",
         "6.7540226",
         "0.8230796"
        ],
        [
         "44",
         "-3.6490564",
         "-3.5436819",
         "1.4005438",
         "1.8587253"
        ],
        [
         "45",
         "-1.876182",
         "-4.013394",
         "0.7044399",
         "7.557092"
        ],
        [
         "46",
         "1.3076403",
         "0.9098242",
         "4.6261654",
         "9.500176"
        ],
        [
         "47",
         "1.4598889",
         "1.7456595",
         "6.284403",
         "9.337233"
        ],
        [
         "48",
         "-0.049136676",
         "-2.84263",
         "1.8040127",
         "8.432744"
        ],
        [
         "49",
         "0.007982619",
         "2.7204158",
         "9.25945",
         "2.40382"
        ]
       ],
       "shape": {
        "columns": 4,
        "rows": 2736
       }
      },
      "text/html": [
       "<div>\n",
       "<style scoped>\n",
       "    .dataframe tbody tr th:only-of-type {\n",
       "        vertical-align: middle;\n",
       "    }\n",
       "\n",
       "    .dataframe tbody tr th {\n",
       "        vertical-align: top;\n",
       "    }\n",
       "\n",
       "    .dataframe thead th {\n",
       "        text-align: right;\n",
       "    }\n",
       "</style>\n",
       "<table border=\"1\" class=\"dataframe\">\n",
       "  <thead>\n",
       "    <tr style=\"text-align: right;\">\n",
       "      <th></th>\n",
       "      <th>h1</th>\n",
       "      <th>h2</th>\n",
       "      <th>r1</th>\n",
       "      <th>r2</th>\n",
       "    </tr>\n",
       "  </thead>\n",
       "  <tbody>\n",
       "    <tr>\n",
       "      <th>0</th>\n",
       "      <td>7.532477</td>\n",
       "      <td>3.103267</td>\n",
       "      <td>9.956944</td>\n",
       "      <td>6.746011</td>\n",
       "    </tr>\n",
       "    <tr>\n",
       "      <th>1</th>\n",
       "      <td>1.168321</td>\n",
       "      <td>0.123864</td>\n",
       "      <td>4.077924</td>\n",
       "      <td>9.375143</td>\n",
       "    </tr>\n",
       "    <tr>\n",
       "      <th>2</th>\n",
       "      <td>5.921931</td>\n",
       "      <td>3.340030</td>\n",
       "      <td>9.959578</td>\n",
       "      <td>3.256295</td>\n",
       "    </tr>\n",
       "    <tr>\n",
       "      <th>3</th>\n",
       "      <td>-3.603281</td>\n",
       "      <td>-4.380395</td>\n",
       "      <td>0.305240</td>\n",
       "      <td>7.075720</td>\n",
       "    </tr>\n",
       "    <tr>\n",
       "      <th>4</th>\n",
       "      <td>1.513275</td>\n",
       "      <td>1.855762</td>\n",
       "      <td>7.457316</td>\n",
       "      <td>8.820196</td>\n",
       "    </tr>\n",
       "    <tr>\n",
       "      <th>...</th>\n",
       "      <td>...</td>\n",
       "      <td>...</td>\n",
       "      <td>...</td>\n",
       "      <td>...</td>\n",
       "    </tr>\n",
       "    <tr>\n",
       "      <th>2731</th>\n",
       "      <td>11.554640</td>\n",
       "      <td>12.168859</td>\n",
       "      <td>9.987188</td>\n",
       "      <td>9.987862</td>\n",
       "    </tr>\n",
       "    <tr>\n",
       "      <th>2732</th>\n",
       "      <td>11.521655</td>\n",
       "      <td>12.286503</td>\n",
       "      <td>9.986972</td>\n",
       "      <td>9.988559</td>\n",
       "    </tr>\n",
       "    <tr>\n",
       "      <th>2733</th>\n",
       "      <td>11.424413</td>\n",
       "      <td>12.399865</td>\n",
       "      <td>9.986319</td>\n",
       "      <td>9.989194</td>\n",
       "    </tr>\n",
       "    <tr>\n",
       "      <th>2734</th>\n",
       "      <td>11.403275</td>\n",
       "      <td>12.463993</td>\n",
       "      <td>9.986172</td>\n",
       "      <td>9.989537</td>\n",
       "    </tr>\n",
       "    <tr>\n",
       "      <th>2735</th>\n",
       "      <td>-8.417499</td>\n",
       "      <td>4.693467</td>\n",
       "      <td>0.012436</td>\n",
       "      <td>9.989404</td>\n",
       "    </tr>\n",
       "  </tbody>\n",
       "</table>\n",
       "<p>2736 rows × 4 columns</p>\n",
       "</div>"
      ],
      "text/plain": [
       "             h1         h2        r1        r2\n",
       "0      7.532477   3.103267  9.956944  6.746011\n",
       "1      1.168321   0.123864  4.077924  9.375143\n",
       "2      5.921931   3.340030  9.959578  3.256295\n",
       "3     -3.603281  -4.380395  0.305240  7.075720\n",
       "4      1.513275   1.855762  7.457316  8.820196\n",
       "...         ...        ...       ...       ...\n",
       "2731  11.554640  12.168859  9.987188  9.987862\n",
       "2732  11.521655  12.286503  9.986972  9.988559\n",
       "2733  11.424413  12.399865  9.986319  9.989194\n",
       "2734  11.403275  12.463993  9.986172  9.989537\n",
       "2735  -8.417499   4.693467  0.012436  9.989404\n",
       "\n",
       "[2736 rows x 4 columns]"
      ]
     },
     "execution_count": 4,
     "metadata": {},
     "output_type": "execute_result"
    }
   ],
   "source": [
    "df_x = pd.DataFrame(X.numpy(), columns=['h1', 'h2'])\n",
    "df_y = pd.DataFrame(y.numpy(), columns=['r1', 'r2'])\n",
    "df = pd.concat([df_x, df_y], axis=1)\n",
    "df"
   ]
  },
  {
   "cell_type": "code",
   "execution_count": 5,
   "id": "aOLkMp-dMtG9",
   "metadata": {
    "colab": {
     "base_uri": "https://localhost:8080/",
     "height": 335
    },
    "collapsed": true,
    "executionInfo": {
     "elapsed": 21,
     "status": "ok",
     "timestamp": 1754900240437,
     "user": {
      "displayName": "Nikita Novikov",
      "userId": "15013732921515692014"
     },
     "user_tz": 240
    },
    "id": "aOLkMp-dMtG9",
    "outputId": "cb2e96cf-bc4b-454a-eb9c-0935341c2f7b"
   },
   "outputs": [
    {
     "data": {
      "application/vnd.microsoft.datawrangler.viewer.v0+json": {
       "columns": [
        {
         "name": "index",
         "rawType": "object",
         "type": "string"
        },
        {
         "name": "0",
         "rawType": "float32",
         "type": "float"
        }
       ],
       "ref": "dd5f3af9-e78e-41bf-91f9-3c43fa6bcc71",
       "rows": [
        [
         "h1",
         "5.504669"
        ],
        [
         "h2",
         "5.389411"
        ],
        [
         "r1",
         "4.1680484"
        ],
        [
         "r2",
         "4.448093"
        ]
       ],
       "shape": {
        "columns": 1,
        "rows": 4
       }
      },
      "text/plain": [
       "h1    5.504669\n",
       "h2    5.389411\n",
       "r1    4.168048\n",
       "r2    4.448093\n",
       "dtype: float32"
      ]
     },
     "execution_count": 5,
     "metadata": {},
     "output_type": "execute_result"
    }
   ],
   "source": [
    "df.std(axis=0)"
   ]
  },
  {
   "cell_type": "code",
   "execution_count": 6,
   "id": "ad96fa4d",
   "metadata": {
    "colab": {
     "base_uri": "https://localhost:8080/"
    },
    "executionInfo": {
     "elapsed": 23,
     "status": "ok",
     "timestamp": 1754961276045,
     "user": {
      "displayName": "Nikita Novikov",
      "userId": "15013732921515692014"
     },
     "user_tz": 240
    },
    "id": "ad96fa4d",
    "outputId": "d129ec99-af48-4687-d874-e6b4b36a1618"
   },
   "outputs": [
    {
     "name": "stdout",
     "output_type": "stream",
     "text": [
      "Train size: torch.Size([2188, 2]) \n",
      "Test size: torch.Size([548, 2])\n"
     ]
    }
   ],
   "source": [
    "torch.manual_seed(0)\n",
    "\n",
    "# Split into train and test samples\n",
    "X_train, X_test, y_train, y_test = train_test_split(X, y, test_size=0.2, random_state=0)\n",
    "print(f'Train size: {X_train.shape} \\nTest size: {X_test.shape}')"
   ]
  },
  {
   "cell_type": "code",
   "execution_count": 7,
   "id": "icC9jK7UGVB3",
   "metadata": {
    "executionInfo": {
     "elapsed": 4,
     "status": "ok",
     "timestamp": 1754961275060,
     "user": {
      "displayName": "Nikita Novikov",
      "userId": "15013732921515692014"
     },
     "user_tz": 240
    },
    "id": "icC9jK7UGVB3"
   },
   "outputs": [],
   "source": [
    "# Hyper-parameters\n",
    "HIDDEN_SZ = 32\n",
    "NLAYERS_HID = 1\n",
    "\n",
    "n_feat = X.shape[1]\n",
    "n_out = 2\n",
    "\n",
    "# Define the model\n",
    "layers = [nn.Linear(n_feat, HIDDEN_SZ), nn.Tanh()]\n",
    "for _ in range(NLAYERS_HID):\n",
    "    layers += [nn.Linear(HIDDEN_SZ, HIDDEN_SZ), nn.Tanh()]\n",
    "layers += [nn.Linear(HIDDEN_SZ, n_out)]\n",
    "model = nn.Sequential(*layers).to(device)"
   ]
  },
  {
   "cell_type": "code",
   "execution_count": 8,
   "id": "SjxM6LGb8ssE",
   "metadata": {
    "colab": {
     "base_uri": "https://localhost:8080/",
     "height": 455
    },
    "collapsed": true,
    "executionInfo": {
     "elapsed": 514453,
     "status": "ok",
     "timestamp": 1754961791711,
     "user": {
      "displayName": "Nikita Novikov",
      "userId": "15013732921515692014"
     },
     "user_tz": 240
    },
    "id": "SjxM6LGb8ssE",
    "outputId": "a992bdff-7172-4852-e2ed-cb3852f2057d"
   },
   "outputs": [
    {
     "data": {
      "image/png": "[encoded data removed]",
      "text/plain": [
       "<Figure size 640x480 with 1 Axes>"
      ]
     },
     "metadata": {},
     "output_type": "display_data"
    }
   ],
   "source": [
    "# Hyper-parameters\n",
    "BATCH_SIZE = 128\n",
    "LR = 1e-3\n",
    "EPOCHS = 500\n",
    "\n",
    "n_samples = X_train.shape[0]\n",
    "\n",
    "X_train = X_train.to(device)\n",
    "y_train = y_train.to(device)\n",
    "X_test = X_test.to(device)\n",
    "y_test = y_test.to(device)\n",
    "\n",
    "dataset = torch.utils.data.TensorDataset(X_train, y_train)\n",
    "loader = torch.utils.data.DataLoader(\n",
    "    dataset, batch_size=BATCH_SIZE, shuffle=True)\n",
    "\n",
    "# Loss + optimizer\n",
    "loss_fn = nn.MSELoss()\n",
    "optimizer = optim.Adam(model.parameters(), lr=LR)\n",
    "\n",
    "# Here we accumulate losses\n",
    "train_loss_vec = []\n",
    "test_loss_vec = []\n",
    "epochs_vec = []   # for plotting\n",
    "\n",
    "# Prepare visualization\n",
    "fig, ax = plt.subplots()\n",
    "(train_loss_plot,) = ax.plot([], [])\n",
    "(test_loss_plot,) = ax.plot([], [])\n",
    "ax.set_xlabel(\"step\"); ax.set_ylabel(\"loss\")\n",
    "txt = ax.text(0.95, 0.95, \"\", transform=ax.transAxes, fontsize=10,\n",
    "              va='top', ha='right',\n",
    "              bbox=dict(boxstyle='round,pad=0.5', fc='wheat', alpha=0.5))\n",
    "\n",
    "# Training loop\n",
    "for epoch in range(1, EPOCHS + 1):\n",
    "    model.train()   # switch to training mode\n",
    "\n",
    "    train_loss = 0.0\n",
    "    for xb, yb in loader:\n",
    "        xb, yb = xb.to(device), yb.to(device)\n",
    "\n",
    "        pred = model(xb)\n",
    "        loss = loss_fn(pred, yb)\n",
    "\n",
    "        optimizer.zero_grad()\n",
    "        loss.backward()\n",
    "        optimizer.step()\n",
    "\n",
    "        train_loss += loss.item() * xb.size(0)\n",
    "\n",
    "    train_loss /= n_samples\n",
    "\n",
    "    if epoch % 20 == 0 or epoch == 1:\n",
    "        # Testing\n",
    "        model.eval()   # switch to evaluation mode\n",
    "        with torch.inference_mode():\n",
    "            pred = model(X_test)\n",
    "            test_loss = loss_fn(pred, y_test)\n",
    "\n",
    "        # Store the losses\n",
    "        train_loss_vec.append(train_loss)\n",
    "        test_loss_vec.append(test_loss.to('cpu'))\n",
    "        epochs_vec.append(epoch)\n",
    "\n",
    "        # Visualize loss dynamics\n",
    "        train_loss_plot.set_data(epochs_vec, train_loss_vec)\n",
    "        test_loss_plot.set_data(epochs_vec, test_loss_vec)\n",
    "        ax.relim(); ax.autoscale_view()\n",
    "        #plt.ylim(0, 2)\n",
    "\n",
    "        # Add text box with losses\n",
    "        textstr = 'Train loss: {:.5f}\\nTest loss: {:.5f}'.format(train_loss, test_loss)\n",
    "        txt.set_text(textstr)\n",
    "\n",
    "        clear_output(wait=True)\n",
    "        display(fig)\n",
    "\n",
    "        #print(f'Epoch: {epoch:3d}, '\n",
    "        #      f'Train loss: {train_loss:.5f} ',\n",
    "        #      f'Test loss: {test_loss:.5f}', flush=True)\n",
    "\n",
    "plt.close(fig)"
   ]
  },
  {
   "cell_type": "code",
   "execution_count": 9,
   "id": "a2f3226d",
   "metadata": {},
   "outputs": [],
   "source": [
    "model.eval()\n",
    "with torch.inference_mode():\n",
    "    yhat_train = model(X_train.to(device)).cpu().numpy()\n",
    "    yhat_test = model(X_test.to(device)).cpu().numpy()\n",
    "\n",
    "X_train = X_train.cpu().numpy()\n",
    "X_test = X_test.cpu().numpy()\n",
    "y_train = y_train.cpu().numpy()\n",
    "y_test = y_test.cpu().numpy()"
   ]
  },
  {
   "cell_type": "code",
   "execution_count": 23,
   "id": "nsHJmCC36mpB",
   "metadata": {
    "colab": {
     "base_uri": "https://localhost:8080/",
     "height": 486
    },
    "executionInfo": {
     "elapsed": 511,
     "status": "ok",
     "timestamp": 1754962119387,
     "user": {
      "displayName": "Nikita Novikov",
      "userId": "15013732921515692014"
     },
     "user_tz": 240
    },
    "id": "nsHJmCC36mpB",
    "outputId": "53a39969-335e-4a5a-9fc0-930b615789b1"
   },
   "outputs": [
    {
     "data": {
      "image/png": "[encoded data removed]",
      "text/plain": [
       "<Figure size 800x600 with 2 Axes>"
      ]
     },
     "metadata": {},
     "output_type": "display_data"
    }
   ],
   "source": [
    "err_train = np.sqrt(np.sum((yhat_train - y_train) ** 2, axis=1))\n",
    "err_test = np.sqrt(np.sum((yhat_test - y_test) ** 2, axis=1))\n",
    "\n",
    "#s = 1\n",
    "s = err_train\n",
    "c = err_train \n",
    "\n",
    "plt.figure(figsize=(8, 6))\n",
    "#plt.figure(figsize=(12, 5))\n",
    "#plt.subplot(1, 2, 1)\n",
    "#plt.scatter(y_train[:, 0], y_train[:, 1], s=s, c=c)\n",
    "#plt.xlabel('r1')\n",
    "#plt.ylabel('r2')\n",
    "#plt.colorbar()\n",
    "#plt.subplot(1, 2, 2)\n",
    "plt.scatter(X_train[:, 0], X_train[:, 1], s=s, c=c)\n",
    "plt.xlabel('h1')\n",
    "plt.ylabel('h2')\n",
    "plt.colorbar()\n",
    "plt.show()"
   ]
  },
  {
   "cell_type": "code",
   "execution_count": null,
   "id": "5fe4f30b",
   "metadata": {},
   "outputs": [],
   "source": []
  }
 ],
 "metadata": {
  "accelerator": "GPU",
  "colab": {
   "gpuType": "T4",
   "provenance": [
    {
     "file_id": "1I_39OoxlQn8xHXHET_XMqkgnoIgkwI68",
     "timestamp": 1754959164670
    },
    {
     "file_id": "1NcCjijmLaGtq1TdukZqMIbtpRDabpuBC",
     "timestamp": 1752295262820
    }
   ]
  },
  "kernelspec": {
   "display_name": "pytorch2",
   "language": "python",
   "name": "python3"
  },
  "language_info": {
   "codemirror_mode": {
    "name": "ipython",
    "version": 3
   },
   "file_extension": ".py",
   "mimetype": "text/x-python",
   "name": "python",
   "nbconvert_exporter": "python",
   "pygments_lexer": "ipython3",
   "version": "3.11.11"
  }
 },
 "nbformat": 4,
 "nbformat_minor": 5
}
