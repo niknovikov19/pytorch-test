{
 "cells": [
  {
   "cell_type": "code",
   "execution_count": 42,
   "metadata": {
    "colab": {
     "base_uri": "https://localhost:8080/"
    },
    "executionInfo": {
     "elapsed": 2993,
     "status": "ok",
     "timestamp": 1744183248631,
     "user": {
      "displayName": "Nikita Novikov",
      "userId": "15013732921515692014"
     },
     "user_tz": 240
    },
    "id": "IAJVJqQv-THj",
    "outputId": "b453bf25-eb2e-4df6-9f99-94dc58881eb6"
   },
   "outputs": [
    {
     "name": "stdout",
     "output_type": "stream",
     "text": [
      "Mounted at /content/drive\n",
      "/content/drive/My Drive/repo/pytorch_test\n",
      "total 7\n",
      "drwx------ 2 root root 4096 Apr  9 07:20 __pycache__\n",
      "-rw------- 1 root root 2544 Apr  9 07:20 pytorch_test_1.ipynb\n",
      "-rw------- 1 root root   46 Apr  9 07:20 test_file.py\n"
     ]
    }
   ],
   "source": [
    "from google.colab import drive\n",
    "drive.mount('/content/drive', force_remount=True)\n",
    "import os\n",
    "os.chdir('/content/drive/My Drive/repo/pytorch_test')\n",
    "!pwd\n",
    "!ls -l"
   ]
  },
  {
   "cell_type": "code",
   "execution_count": 43,
   "metadata": {
    "colab": {
     "base_uri": "https://localhost:8080/"
    },
    "executionInfo": {
     "elapsed": 896,
     "status": "ok",
     "timestamp": 1744183250643,
     "user": {
      "displayName": "Nikita Novikov",
      "userId": "15013732921515692014"
     },
     "user_tz": 240
    },
    "id": "ZCPwFDLFYGk5",
    "outputId": "ec71adfd-d297-48ec-de6f-9c41b6e527d0"
   },
   "outputs": [
    {
     "name": "stdout",
     "output_type": "stream",
     "text": [
      "total 7\n",
      "drwx------ 2 root root 4096 Apr  9 07:20 __pycache__\n",
      "-rw------- 1 root root 2544 Apr  9 07:20 pytorch_test_1.ipynb\n",
      "-rw------- 1 root root   46 Apr  9 07:20 test_file.py\n",
      "def test_func():\n",
      "    print('Test function 5')"
     ]
    }
   ],
   "source": [
    "!ls -l \"/content/drive/My Drive/repo/pytorch_test\"\n",
    "!cat \"/content/drive/My Drive/repo/pytorch_test/test_file.py\""
   ]
  },
  {
   "cell_type": "code",
   "execution_count": 48,
   "metadata": {
    "colab": {
     "base_uri": "https://localhost:8080/"
    },
    "executionInfo": {
     "elapsed": 26,
     "status": "ok",
     "timestamp": 1744183266454,
     "user": {
      "displayName": "Nikita Novikov",
      "userId": "15013732921515692014"
     },
     "user_tz": 240
    },
    "id": "D3OyakVe4-mm",
    "outputId": "a5267f05-6f29-4e4b-fbed-86b6633f3ebc"
   },
   "outputs": [
    {
     "name": "stdout",
     "output_type": "stream",
     "text": [
      "Test function 5\n"
     ]
    }
   ],
   "source": [
    "import importlib\n",
    "import test_file\n",
    "importlib.reload(test_file)\n",
    "from test_file import test_func\n",
    "test_func()"
   ]
  },
  {
   "cell_type": "code",
   "execution_count": 3,
   "metadata": {
    "colab": {
     "base_uri": "https://localhost:8080/"
    },
    "executionInfo": {
     "elapsed": 12257,
     "status": "ok",
     "timestamp": 1744188741100,
     "user": {
      "displayName": "Nikita Novikov",
      "userId": "15013732921515692014"
     },
     "user_tz": 240
    },
    "id": "nrnLyRpWp9fJ",
    "outputId": "c0c1ecf9-02af-4596-935c-d7a2c66b9b6b"
   },
   "outputs": [
    {
     "name": "stdout",
     "output_type": "stream",
     "text": [
      "numpy                              2.0.2\n",
      "scipy                              1.14.1\n",
      "geopandas                          1.0.1\n",
      "pandas                             2.2.2\n",
      "pandas-datareader                  0.10.0\n",
      "pandas-gbq                         0.28.0\n",
      "pandas-stubs                       2.2.2.240909\n",
      "sklearn-pandas                     2.2.0\n",
      "scikit-learn                       1.6.1\n",
      "matplotlib                         3.10.0\n",
      "matplotlib-inline                  0.1.7\n",
      "matplotlib-venn                    1.1.2\n",
      "torch                              2.6.0+cu124\n",
      "torchaudio                         2.6.0+cu124\n",
      "torchsummary                       1.5.1\n",
      "torchvision                        0.21.0+cu124\n"
     ]
    }
   ],
   "source": [
    "!pip list | grep numpy\n",
    "!pip list | grep scipy\n",
    "!pip list | grep pandas\n",
    "!pip list | grep scikit-learn\n",
    "!pip list | grep matplotlib\n",
    "!pip list | grep torch"
   ]
  },
  {
   "cell_type": "code",
   "execution_count": 1,
   "metadata": {
    "colab": {
     "base_uri": "https://localhost:8080/"
    },
    "executionInfo": {
     "elapsed": 112,
     "status": "ok",
     "timestamp": 1744187882236,
     "user": {
      "displayName": "Nikita Novikov",
      "userId": "15013732921515692014"
     },
     "user_tz": 240
    },
    "id": "8u1mpLbtst1z",
    "outputId": "b03fb64a-837e-4261-e745-b3c3d447013f"
   },
   "outputs": [
    {
     "name": "stdout",
     "output_type": "stream",
     "text": [
      "Python 3.11.11\n"
     ]
    }
   ],
   "source": [
    "!python -V"
   ]
  }
 ],
 "metadata": {
  "colab": {
   "provenance": []
  },
  "kernelspec": {
   "display_name": "netpyne_batch",
   "language": "python",
   "name": "python3"
  },
  "language_info": {
   "codemirror_mode": {
    "name": "ipython",
    "version": 3
   },
   "file_extension": ".py",
   "mimetype": "text/x-python",
   "name": "python",
   "nbconvert_exporter": "python",
   "pygments_lexer": "ipython3",
   "version": "3.10.14"
  }
 },
 "nbformat": 4,
 "nbformat_minor": 0
}
