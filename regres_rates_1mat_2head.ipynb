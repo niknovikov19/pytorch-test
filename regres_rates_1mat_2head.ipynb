{
 "cells": [
  {
   "cell_type": "code",
   "execution_count": 1,
   "id": "7f5900ab",
   "metadata": {
    "colab": {
     "base_uri": "https://localhost:8080/"
    },
    "executionInfo": {
     "elapsed": 9736,
     "status": "ok",
     "timestamp": 1754960494344,
     "user": {
      "displayName": "Nikita Novikov",
      "userId": "15013732921515692014"
     },
     "user_tz": 240
    },
    "id": "7f5900ab",
    "outputId": "2c86f183-0416-4ee0-da57-fa578195ec54"
   },
   "outputs": [
    {
     "name": "stdout",
     "output_type": "stream",
     "text": [
      "cpu\n"
     ]
    }
   ],
   "source": [
    "%matplotlib inline\n",
    "\n",
    "import matplotlib.pyplot as plt\n",
    "import numpy as np\n",
    "import pandas as pd\n",
    "import xarray as xr\n",
    "\n",
    "from IPython.display import clear_output, display\n",
    "\n",
    "from sklearn.model_selection import train_test_split\n",
    "\n",
    "import torch\n",
    "import torch.nn as nn\n",
    "import torch.nn.functional as F\n",
    "import torch.optim as optim\n",
    "\n",
    "device = \"cuda\" if torch.cuda.is_available() else \"cpu\"\n",
    "print(device)"
   ]
  },
  {
   "cell_type": "code",
   "execution_count": 2,
   "id": "nN-8CPIG5IAW",
   "metadata": {
    "colab": {
     "base_uri": "https://localhost:8080/"
    },
    "executionInfo": {
     "elapsed": 31681,
     "status": "ok",
     "timestamp": 1754960526032,
     "user": {
      "displayName": "Nikita Novikov",
      "userId": "15013732921515692014"
     },
     "user_tz": 240
    },
    "id": "nN-8CPIG5IAW",
    "outputId": "12f894c3-45e9-4337-ece8-f2050aba69f2"
   },
   "outputs": [],
   "source": [
    "#from google.colab import drive\n",
    "#drive.mount('/content/drive')\n",
    "\n",
    "from pathlib import Path\n",
    "#dirpath_root = Path('/content/drive/MyDrive/repo/pytorch_test')\n",
    "dirpath_root = Path().resolve()"
   ]
  },
  {
   "cell_type": "code",
   "execution_count": 3,
   "id": "8dc97b7b",
   "metadata": {
    "colab": {
     "base_uri": "https://localhost:8080/"
    },
    "executionInfo": {
     "elapsed": 5155,
     "status": "ok",
     "timestamp": 1754960531180,
     "user": {
      "displayName": "Nikita Novikov",
      "userId": "15013732921515692014"
     },
     "user_tz": 240
    },
    "id": "8dc97b7b",
    "outputId": "bad35c16-0283-45a3-f8a7-6a5428852f7d"
   },
   "outputs": [
    {
     "name": "stdout",
     "output_type": "stream",
     "text": [
      "Frozen({'point': 2736, 'pop': 2})\n"
     ]
    }
   ],
   "source": [
    "fname = 'rates_ws_1_nw_100_wsel_2_npts_5000_rmarg_0.01_seed_113'\n",
    "\n",
    "data = xr.open_dataset(dirpath_root / 'data' / 'rates_2pop_1mat' / f'{fname}.nc')\n",
    "print(data.sizes)\n",
    "\n",
    "# Features\n",
    "X = data['H']\n",
    "X = torch.from_numpy(X.values).type(torch.float)\n",
    "\n",
    "# Target\n",
    "y = data['R']\n",
    "y = torch.from_numpy(y.values).type(torch.float)"
   ]
  },
  {
   "cell_type": "code",
   "execution_count": 4,
   "id": "34787b13",
   "metadata": {
    "colab": {
     "base_uri": "https://localhost:8080/",
     "height": 423
    },
    "collapsed": true,
    "executionInfo": {
     "elapsed": 59,
     "status": "ok",
     "timestamp": 1754900236115,
     "user": {
      "displayName": "Nikita Novikov",
      "userId": "15013732921515692014"
     },
     "user_tz": 240
    },
    "id": "34787b13",
    "outputId": "9675ba11-d179-4a62-d1bc-bc953abdd53c"
   },
   "outputs": [
    {
     "data": {
      "application/vnd.microsoft.datawrangler.viewer.v0+json": {
       "columns": [
        {
         "name": "index",
         "rawType": "int64",
         "type": "integer"
        },
        {
         "name": "h1",
         "rawType": "float32",
         "type": "float"
        },
        {
         "name": "h2",
         "rawType": "float32",
         "type": "float"
        },
        {
         "name": "r1",
         "rawType": "float32",
         "type": "float"
        },
        {
         "name": "r2",
         "rawType": "float32",
         "type": "float"
        }
       ],
       "ref": "129e28a6-6ef6-4995-8165-aec5524a9e59",
       "rows": [
        [
         "0",
         "7.532477",
         "3.1032672",
         "9.956944",
         "6.7460113"
        ],
        [
         "1",
         "1.1683211",
         "0.12386442",
         "4.077924",
         "9.375143"
        ],
        [
         "2",
         "5.9219313",
         "3.3400304",
         "9.959578",
         "3.256295"
        ],
        [
         "3",
         "-3.6032813",
         "-4.380395",
         "0.30524024",
         "7.07572"
        ],
        [
         "4",
         "1.5132751",
         "1.8557624",
         "7.457316",
         "8.820196"
        ],
        [
         "5",
         "-0.5178876",
         "-3.29952",
         "1.4213685",
         "8.1139345"
        ],
        [
         "6",
         "-3.6628013",
         "-3.5528262",
         "1.3458239",
         "1.942729"
        ],
        [
         "7",
         "-5.2552695",
         "-4.108542",
         "0.39383826",
         "2.8121967"
        ],
        [
         "8",
         "-2.262707",
         "0.75098836",
         "7.499266",
         "1.1948968"
        ],
        [
         "9",
         "1.8167359",
         "2.2315338",
         "8.517566",
         "8.162615"
        ],
        [
         "10",
         "1.098819",
         "-0.20719661",
         "3.8087034",
         "9.324062"
        ],
        [
         "11",
         "1.0953908",
         "3.00627",
         "9.561869",
         "2.7600646"
        ],
        [
         "12",
         "1.4671568",
         "1.7474067",
         "6.8384433",
         "9.113394"
        ],
        [
         "13",
         "1.3092788",
         "0.91382843",
         "4.7376657",
         "9.474452"
        ],
        [
         "14",
         "1.2879921",
         "0.78540105",
         "4.6073403",
         "9.465622"
        ],
        [
         "15",
         "1.3168831",
         "0.9604593",
         "4.779852",
         "9.478883"
        ],
        [
         "16",
         "-1.5481038",
         "1.7692701",
         "8.336915",
         "1.7005252"
        ],
        [
         "17",
         "-3.2915716",
         "-3.139377",
         "2.5032017",
         "1.1844033"
        ],
        [
         "18",
         "-2.8514225",
         "-0.99406654",
         "6.2462273",
         "0.68200904"
        ],
        [
         "19",
         "2.0089004",
         "2.3711965",
         "8.796079",
         "7.960103"
        ],
        [
         "20",
         "-0.5887754",
         "2.4663243",
         "8.991182",
         "2.201844"
        ],
        [
         "21",
         "1.0843537",
         "-0.2711725",
         "3.7465503",
         "9.317099"
        ],
        [
         "22",
         "-3.1230588",
         "-2.470141",
         "4.938926",
         "0.510551"
        ],
        [
         "23",
         "-5.2435403",
         "-4.521041",
         "0.13458917",
         "6.90961"
        ],
        [
         "24",
         "-7.0791583",
         "-4.5861964",
         "0.05409116",
         "6.808072"
        ],
        [
         "25",
         "-2.2250168",
         "0.8241851",
         "7.5687065",
         "1.2144558"
        ],
        [
         "26",
         "-1.5739845",
         "1.7424623",
         "8.32033",
         "1.6739277"
        ],
        [
         "27",
         "-4.5051036",
         "-3.941599",
         "0.6564265",
         "2.5104568"
        ],
        [
         "28",
         "6.3329425",
         "3.0753891",
         "9.918694",
         "6.8542757"
        ],
        [
         "29",
         "-7.4316726",
         "-4.5930576",
         "0.04525532",
         "6.80809"
        ],
        [
         "30",
         "-4.6620393",
         "-4.4839625",
         "0.17888923",
         "6.976512"
        ],
        [
         "31",
         "-2.5947318",
         "-0.060153384",
         "6.9228225",
         "0.90204257"
        ],
        [
         "32",
         "10.309795",
         "3.1285818",
         "9.989293",
         "6.7650914"
        ],
        [
         "33",
         "7.2045717",
         "3.3547113",
         "9.979002",
         "3.2198844"
        ],
        [
         "34",
         "-2.6605074",
         "-0.26689717",
         "6.780448",
         "0.8423317"
        ],
        [
         "35",
         "-3.538659",
         "-3.4518852",
         "1.5982277",
         "1.7240531"
        ],
        [
         "36",
         "-3.0743825",
         "-2.1734662",
         "5.3333898",
         "0.5075684"
        ],
        [
         "37",
         "1.3079808",
         "0.9093732",
         "4.658984",
         "9.492265"
        ],
        [
         "38",
         "1.3236425",
         "1.0058453",
         "4.7509017",
         "9.499921"
        ],
        [
         "39",
         "-9.190502",
         "-4.613948",
         "0.01875081",
         "6.7895803"
        ],
        [
         "40",
         "2.8550453",
         "2.716587",
         "9.39236",
         "7.4559135"
        ],
        [
         "41",
         "-3.218435",
         "-2.9766736",
         "3.7909687",
         "0.6492463"
        ],
        [
         "42",
         "2.0511684",
         "2.3976805",
         "8.830599",
         "7.959121"
        ],
        [
         "43",
         "-2.6764336",
         "-0.32048893",
         "6.7540226",
         "0.8230796"
        ],
        [
         "44",
         "-3.6490564",
         "-3.5436819",
         "1.4005438",
         "1.8587253"
        ],
        [
         "45",
         "-1.876182",
         "-4.013394",
         "0.7044399",
         "7.557092"
        ],
        [
         "46",
         "1.3076403",
         "0.9098242",
         "4.6261654",
         "9.500176"
        ],
        [
         "47",
         "1.4598889",
         "1.7456595",
         "6.284403",
         "9.337233"
        ],
        [
         "48",
         "-0.049136676",
         "-2.84263",
         "1.8040127",
         "8.432744"
        ],
        [
         "49",
         "0.007982619",
         "2.7204158",
         "9.25945",
         "2.40382"
        ]
       ],
       "shape": {
        "columns": 4,
        "rows": 2736
       }
      },
      "text/html": [
       "<div>\n",
       "<style scoped>\n",
       "    .dataframe tbody tr th:only-of-type {\n",
       "        vertical-align: middle;\n",
       "    }\n",
       "\n",
       "    .dataframe tbody tr th {\n",
       "        vertical-align: top;\n",
       "    }\n",
       "\n",
       "    .dataframe thead th {\n",
       "        text-align: right;\n",
       "    }\n",
       "</style>\n",
       "<table border=\"1\" class=\"dataframe\">\n",
       "  <thead>\n",
       "    <tr style=\"text-align: right;\">\n",
       "      <th></th>\n",
       "      <th>h1</th>\n",
       "      <th>h2</th>\n",
       "      <th>r1</th>\n",
       "      <th>r2</th>\n",
       "    </tr>\n",
       "  </thead>\n",
       "  <tbody>\n",
       "    <tr>\n",
       "      <th>0</th>\n",
       "      <td>7.532477</td>\n",
       "      <td>3.103267</td>\n",
       "      <td>9.956944</td>\n",
       "      <td>6.746011</td>\n",
       "    </tr>\n",
       "    <tr>\n",
       "      <th>1</th>\n",
       "      <td>1.168321</td>\n",
       "      <td>0.123864</td>\n",
       "      <td>4.077924</td>\n",
       "      <td>9.375143</td>\n",
       "    </tr>\n",
       "    <tr>\n",
       "      <th>2</th>\n",
       "      <td>5.921931</td>\n",
       "      <td>3.340030</td>\n",
       "      <td>9.959578</td>\n",
       "      <td>3.256295</td>\n",
       "    </tr>\n",
       "    <tr>\n",
       "      <th>3</th>\n",
       "      <td>-3.603281</td>\n",
       "      <td>-4.380395</td>\n",
       "      <td>0.305240</td>\n",
       "      <td>7.075720</td>\n",
       "    </tr>\n",
       "    <tr>\n",
       "      <th>4</th>\n",
       "      <td>1.513275</td>\n",
       "      <td>1.855762</td>\n",
       "      <td>7.457316</td>\n",
       "      <td>8.820196</td>\n",
       "    </tr>\n",
       "    <tr>\n",
       "      <th>...</th>\n",
       "      <td>...</td>\n",
       "      <td>...</td>\n",
       "      <td>...</td>\n",
       "      <td>...</td>\n",
       "    </tr>\n",
       "    <tr>\n",
       "      <th>2731</th>\n",
       "      <td>11.554640</td>\n",
       "      <td>12.168859</td>\n",
       "      <td>9.987188</td>\n",
       "      <td>9.987862</td>\n",
       "    </tr>\n",
       "    <tr>\n",
       "      <th>2732</th>\n",
       "      <td>11.521655</td>\n",
       "      <td>12.286503</td>\n",
       "      <td>9.986972</td>\n",
       "      <td>9.988559</td>\n",
       "    </tr>\n",
       "    <tr>\n",
       "      <th>2733</th>\n",
       "      <td>11.424413</td>\n",
       "      <td>12.399865</td>\n",
       "      <td>9.986319</td>\n",
       "      <td>9.989194</td>\n",
       "    </tr>\n",
       "    <tr>\n",
       "      <th>2734</th>\n",
       "      <td>11.403275</td>\n",
       "      <td>12.463993</td>\n",
       "      <td>9.986172</td>\n",
       "      <td>9.989537</td>\n",
       "    </tr>\n",
       "    <tr>\n",
       "      <th>2735</th>\n",
       "      <td>-8.417499</td>\n",
       "      <td>4.693467</td>\n",
       "      <td>0.012436</td>\n",
       "      <td>9.989404</td>\n",
       "    </tr>\n",
       "  </tbody>\n",
       "</table>\n",
       "<p>2736 rows × 4 columns</p>\n",
       "</div>"
      ],
      "text/plain": [
       "             h1         h2        r1        r2\n",
       "0      7.532477   3.103267  9.956944  6.746011\n",
       "1      1.168321   0.123864  4.077924  9.375143\n",
       "2      5.921931   3.340030  9.959578  3.256295\n",
       "3     -3.603281  -4.380395  0.305240  7.075720\n",
       "4      1.513275   1.855762  7.457316  8.820196\n",
       "...         ...        ...       ...       ...\n",
       "2731  11.554640  12.168859  9.987188  9.987862\n",
       "2732  11.521655  12.286503  9.986972  9.988559\n",
       "2733  11.424413  12.399865  9.986319  9.989194\n",
       "2734  11.403275  12.463993  9.986172  9.989537\n",
       "2735  -8.417499   4.693467  0.012436  9.989404\n",
       "\n",
       "[2736 rows x 4 columns]"
      ]
     },
     "execution_count": 4,
     "metadata": {},
     "output_type": "execute_result"
    }
   ],
   "source": [
    "df_x = pd.DataFrame(X.numpy(), columns=['h1', 'h2'])\n",
    "df_y = pd.DataFrame(y.numpy(), columns=['r1', 'r2'])\n",
    "df = pd.concat([df_x, df_y], axis=1)\n",
    "df"
   ]
  },
  {
   "cell_type": "code",
   "execution_count": 5,
   "id": "aOLkMp-dMtG9",
   "metadata": {
    "colab": {
     "base_uri": "https://localhost:8080/",
     "height": 335
    },
    "collapsed": true,
    "executionInfo": {
     "elapsed": 21,
     "status": "ok",
     "timestamp": 1754900240437,
     "user": {
      "displayName": "Nikita Novikov",
      "userId": "15013732921515692014"
     },
     "user_tz": 240
    },
    "id": "aOLkMp-dMtG9",
    "outputId": "cb2e96cf-bc4b-454a-eb9c-0935341c2f7b"
   },
   "outputs": [
    {
     "data": {
      "application/vnd.microsoft.datawrangler.viewer.v0+json": {
       "columns": [
        {
         "name": "index",
         "rawType": "object",
         "type": "string"
        },
        {
         "name": "0",
         "rawType": "float32",
         "type": "float"
        }
       ],
       "ref": "ae8f395b-bb3f-47be-93be-f0d62cde92cd",
       "rows": [
        [
         "h1",
         "5.504669"
        ],
        [
         "h2",
         "5.389411"
        ],
        [
         "r1",
         "4.1680484"
        ],
        [
         "r2",
         "4.448093"
        ]
       ],
       "shape": {
        "columns": 1,
        "rows": 4
       }
      },
      "text/plain": [
       "h1    5.504669\n",
       "h2    5.389411\n",
       "r1    4.168048\n",
       "r2    4.448093\n",
       "dtype: float32"
      ]
     },
     "execution_count": 5,
     "metadata": {},
     "output_type": "execute_result"
    }
   ],
   "source": [
    "df.std(axis=0)"
   ]
  },
  {
   "cell_type": "code",
   "execution_count": null,
   "id": "ad96fa4d",
   "metadata": {
    "colab": {
     "base_uri": "https://localhost:8080/"
    },
    "executionInfo": {
     "elapsed": 23,
     "status": "ok",
     "timestamp": 1754961276045,
     "user": {
      "displayName": "Nikita Novikov",
      "userId": "15013732921515692014"
     },
     "user_tz": 240
    },
    "id": "ad96fa4d",
    "outputId": "d129ec99-af48-4687-d874-e6b4b36a1618"
   },
   "outputs": [
    {
     "name": "stdout",
     "output_type": "stream",
     "text": [
      "Train size: torch.Size([2188, 2]) \n",
      "Test size: torch.Size([548, 2])\n"
     ]
    }
   ],
   "source": [
    "TORCH_SEED = 0\n",
    "SPLIT_SEED = 0\n",
    "\n",
    "torch.manual_seed(TORCH_SEED)\n",
    "\n",
    "# Split into train and test samples\n",
    "X_train, X_test, y_train, y_test = train_test_split(\n",
    "    X, y, test_size=0.2, random_state=SPLIT_SEED)\n",
    "\n",
    "print(f'Train size: {X_train.shape} \\nTest size: {X_test.shape}')"
   ]
  },
  {
   "cell_type": "code",
   "execution_count": 5,
   "id": "65aeb229",
   "metadata": {},
   "outputs": [],
   "source": [
    "class MLP(nn.Module):\n",
    "    def __init__(self, d_in, d_hidden, d_out, n_layers=2, act=nn.GELU):\n",
    "        super().__init__()\n",
    "        layers = [nn.Linear(d_in, d_hidden), act()]\n",
    "        for _ in range(n_layers - 1):\n",
    "            layers += [nn.Linear(d_hidden, d_hidden), act()]\n",
    "        layers += [nn.Linear(d_hidden, d_out)]\n",
    "        self.net = nn.Sequential(*layers)\n",
    "    def forward(self, x): return self.net(x)\n",
    "\n",
    "class GatedKHeads(nn.Module):\n",
    "    def __init__(self, d_in, d_out, hidden=128, trunk_layers=2, K=2):\n",
    "        super().__init__()\n",
    "        self.K = K\n",
    "        self.trunk = MLP(d_in, hidden, hidden, n_layers=trunk_layers)\n",
    "        # K expert heads (each outputs d_out numbers)\n",
    "        self.experts = nn.ModuleList([MLP(hidden, hidden, d_out, n_layers=1)\n",
    "                                      for _ in range(K)])\n",
    "        # gate -> logits for K heads\n",
    "        self.gate = MLP(hidden, hidden, K, n_layers=1)\n",
    "\n",
    "    def forward(self, x):\n",
    "        z = self.trunk(x)\n",
    "        ys = torch.stack([torch.sigmoid(h(z)) * 10.0\n",
    "                          for h in self.experts], dim=1)   # (B,K,d_out)\n",
    "        logits = self.gate(z)                                  # (B,K)\n",
    "        pi = F.softmax(logits, dim=-1)                         # (B,K)\n",
    "        return ys, pi, logits\n",
    "\n",
    "def loss_batch(yK, pi, logits, r_true,\n",
    "               alpha=0.05, beta=0.0, lam=0.05, margin=0.3):\n",
    "    # yK: (B,K,d_out), pi: (B,K), r_true: (B,d_out)\n",
    "    dK = ((yK - r_true.unsqueeze(1))**2).mean(-1)             # (B,K)\n",
    "    L_fit = (pi * dK).sum(dim=1).mean()\n",
    "\n",
    "    # load-balance (KL to uniform)\n",
    "    pi_bar = pi.mean(dim=0)                                    # (K,)\n",
    "    L_bal = (pi_bar * (pi_bar.clamp_min(1e-8) * yK.size(1)).log()).sum()\n",
    "\n",
    "    # optional hard gating CE (winner-take-all pseudo-label)\n",
    "    if beta > 0:\n",
    "        winners = dK.argmin(dim=1)\n",
    "        L_ce = F.cross_entropy(logits, winners)\n",
    "    else:\n",
    "        L_ce = torch.zeros((), device=yK.device)\n",
    "\n",
    "    # conditional diversity (hinge on pairwise distance when gate is unsure)\n",
    "    # here K=2 for simplicity:\n",
    "    if yK.size(1) == 2:\n",
    "        D = torch.norm(yK[:,0,:] - yK[:,1,:], dim=-1)          # (B,)\n",
    "        conf = pi.max(dim=1).values                            # (B,)\n",
    "        L_div = ((1 - conf) * F.relu(margin - D)**2).mean()\n",
    "    else:\n",
    "        # generic K>2: pairwise distances + average (omit for brevity)\n",
    "        print(\"Diversity loss not implemented for K > 2, using zero loss.\")\n",
    "        L_div = torch.zeros((), device=yK.device)\n",
    "\n",
    "    loss = L_fit + alpha * L_bal + beta * L_ce + lam * L_div\n",
    "    return loss, {'fit': L_fit.detach(), 'bal': L_bal.detach(),\n",
    "                  'ce': L_ce.detach(), 'div': L_div.detach()}"
   ]
  },
  {
   "cell_type": "code",
   "execution_count": 6,
   "id": "6ebe658f",
   "metadata": {},
   "outputs": [],
   "source": [
    "def top1_mse(yK, r_true):\n",
    "    # Best head by true distance (for evaluation only)\n",
    "    dK = ((yK - r_true.unsqueeze(1))**2).mean(-1)  # (B,K)\n",
    "    top1 = dK.min(dim=1).values\n",
    "    return top1.mean()\n",
    "\n",
    "@torch.no_grad()\n",
    "def eval_epoch(model, X, y, batch_size=1024, device='cuda'):\n",
    "    model.eval()\n",
    "    n = X.size(0)\n",
    "    tot_loss = 0.0\n",
    "    tot_top1 = 0.0\n",
    "    bal = 0.0\n",
    "    tot_gate_entropy = 0.0\n",
    "    steps = 0\n",
    "    for i in range(0, n, batch_size):\n",
    "        xb = X[i : i + batch_size].to(device, non_blocking=True)\n",
    "        yb = y[i : i + batch_size].to(device, non_blocking=True)\n",
    "        yK, pi, _ = model(xb)\n",
    "        # Report top-1 MSE (closest head) as intuitive metric\n",
    "        tot_top1 += top1_mse(yK, yb).item()\n",
    "        # Report gated MSE (the same objective as training)\n",
    "        dK = ((yK - yb.unsqueeze(1))**2).mean(-1)\n",
    "        tot_loss += (pi * dK).sum(dim=1).mean().item()\n",
    "        # Gate balance\n",
    "        pi_bar = pi.mean(dim=0)\n",
    "        bal += (pi_bar * (pi_bar.clamp_min(1e-8) * yK.size(1)).log()).sum()\n",
    "        # Gate usage entropy (higher ~ balanced)\n",
    "        ent = -(pi.clamp_min(1e-8) * pi.clamp_min(1e-8).log()).sum(dim=1).mean().item()\n",
    "        tot_gate_entropy += ent\n",
    "        steps += 1\n",
    "    return {'gated_mse': tot_loss / steps,\n",
    "            'top1_mse': tot_top1 / steps,\n",
    "            'gate_balance': bal / steps,\n",
    "            'gate_entropy': tot_gate_entropy / steps}"
   ]
  },
  {
   "cell_type": "code",
   "execution_count": 55,
   "id": "5d9521d2",
   "metadata": {},
   "outputs": [],
   "source": [
    "# Hyper-parameters\n",
    "HIDDEN_SZ = 64\n",
    "NLAYERS_HID = 2\n",
    "\n",
    "n_feat = X.shape[1]\n",
    "n_out = 2\n",
    "\n",
    "# Define the model\n",
    "model = GatedKHeads(n_feat, n_out, hidden=HIDDEN_SZ,\n",
    "                    trunk_layers=NLAYERS_HID, K=2)\n",
    "model = model.to(device)"
   ]
  },
  {
   "cell_type": "code",
   "execution_count": 56,
   "id": "54b7c577",
   "metadata": {},
   "outputs": [
    {
     "name": "stdout",
     "output_type": "stream",
     "text": [
      "ep    1 | train_tot 12.315381 | train_top1 8.796575 | train_ent 0.3430 | val_top1 9.101841 | val_ent 0.3595\n",
      "ep   20 | train_tot 3.509196 | train_top1 3.092438 | train_ent 0.0557 | val_top1 4.462024 | val_ent 0.0518\n",
      "ep   40 | train_tot 3.242130 | train_top1 2.543829 | train_ent 0.0143 | val_top1 3.986980 | val_ent 0.0162\n",
      "ep   60 | train_tot 3.162479 | train_top1 2.178149 | train_ent 0.0140 | val_top1 3.425990 | val_ent 0.0144\n",
      "ep   80 | train_tot 3.135897 | train_top1 1.922071 | train_ent 0.0128 | val_top1 2.811022 | val_ent 0.0165\n",
      "ep  100 | train_tot 3.068638 | train_top1 1.783664 | train_ent 0.0103 | val_top1 2.563447 | val_ent 0.0113\n",
      "ep  120 | train_tot 2.882288 | train_top1 1.749546 | train_ent 0.0117 | val_top1 2.691642 | val_ent 0.0102\n",
      "ep  140 | train_tot 2.820855 | train_top1 1.617976 | train_ent 0.0120 | val_top1 2.519055 | val_ent 0.0127\n",
      "ep  160 | train_tot 2.797622 | train_top1 1.891229 | train_ent 0.0079 | val_top1 2.823921 | val_ent 0.0095\n",
      "ep  180 | train_tot 2.729246 | train_top1 1.647963 | train_ent 0.0101 | val_top1 2.515566 | val_ent 0.0128\n"
     ]
    },
    {
     "ename": "KeyboardInterrupt",
     "evalue": "",
     "output_type": "error",
     "traceback": [
      "\u001b[1;31m---------------------------------------------------------------------------\u001b[0m",
      "\u001b[1;31mKeyboardInterrupt\u001b[0m                         Traceback (most recent call last)",
      "Cell \u001b[1;32mIn[56], line 32\u001b[0m\n\u001b[0;32m     29\u001b[0m model\u001b[38;5;241m.\u001b[39mtrain()\n\u001b[0;32m     31\u001b[0m \u001b[38;5;28;01mfor\u001b[39;00m xb, yb \u001b[38;5;129;01min\u001b[39;00m loader:\n\u001b[1;32m---> 32\u001b[0m     xb \u001b[38;5;241m=\u001b[39m xb\u001b[38;5;241m.\u001b[39mto(device, non_blocking\u001b[38;5;241m=\u001b[39m\u001b[38;5;28;01mTrue\u001b[39;00m)\n\u001b[0;32m     33\u001b[0m     yb \u001b[38;5;241m=\u001b[39m yb\u001b[38;5;241m.\u001b[39mto(device, non_blocking\u001b[38;5;241m=\u001b[39m\u001b[38;5;28;01mTrue\u001b[39;00m)\n\u001b[0;32m     35\u001b[0m     yK, pi, logits \u001b[38;5;241m=\u001b[39m model(xb)\n",
      "\u001b[1;31mKeyboardInterrupt\u001b[0m: "
     ]
    }
   ],
   "source": [
    "BATCH_SIZE = 128\n",
    "LR = 1e-3\n",
    "EPOCHS = 2000\n",
    "PRINT_EVERY = 20\n",
    "\n",
    "ALPHA = 2   # head balance\n",
    "BETA = 0\n",
    "LAM = 1     # head diversity\n",
    "MARGIN = 0.3\n",
    "\n",
    "X_train = X_train.to(device)\n",
    "y_train = y_train.to(device)\n",
    "X_test = X_test.to(device)\n",
    "y_test = y_test.to(device)\n",
    "\n",
    "# Loader\n",
    "dataset = torch.utils.data.TensorDataset(X_train, y_train)\n",
    "loader = torch.utils.data.DataLoader(\n",
    "    dataset, batch_size=BATCH_SIZE, shuffle=True)\n",
    "\n",
    "# Optimizer\n",
    "optimizer = optim.Adam(model.parameters(), lr=LR)\n",
    "\n",
    "for epoch in range(1, EPOCHS + 1):\n",
    "    running_fit = 0\n",
    "    running_total = 0\n",
    "    n_seen = 0\n",
    "\n",
    "    model.train()\n",
    "\n",
    "    for xb, yb in loader:\n",
    "        xb = xb.to(device, non_blocking=True)\n",
    "        yb = yb.to(device, non_blocking=True)\n",
    "\n",
    "        yK, pi, logits = model(xb)\n",
    "\n",
    "        loss, parts = loss_batch(\n",
    "            yK, pi, logits, yb,\n",
    "            alpha=ALPHA, beta=BETA, lam=LAM, margin=MARGIN\n",
    "        )\n",
    "\n",
    "        optimizer.zero_grad(set_to_none=True)\n",
    "        loss.backward()\n",
    "        optimizer.step()\n",
    "\n",
    "        running_fit += parts['fit'].item() * xb.size(0)\n",
    "        running_total += loss.item() * xb.size(0)\n",
    "        n_seen += xb.size(0)\n",
    "\n",
    "    train_fit = running_fit / n_seen\n",
    "    train_total = running_total / n_seen\n",
    "\n",
    "    if epoch % PRINT_EVERY == 0 or epoch == 1:\n",
    "        mets_train = eval_epoch(model, X_train, y_train, device=device)\n",
    "        mets_test = eval_epoch(model, X_test, y_test, device=device)\n",
    "        print(\n",
    "            f\"ep {epoch:4d} | train_tot {train_total:.6f} | \"\n",
    "            #f\"train_gated {train_fit:.6f} | \"\n",
    "            f\"train_top1 {mets_train['top1_mse']:.6f} | \"\n",
    "            #f\"train_bal {mets_train['gate_balance']:.4f} | \"\n",
    "            f\"train_ent {mets_train['gate_entropy']:.4f} | \"\n",
    "            #f\"val_gated {mets_test['gated_mse']:.6f} | \"\n",
    "            f\"val_top1 {mets_test['top1_mse']:.6f} | \"\n",
    "            f\"val_ent {mets_test['gate_entropy']:.4f}\"\n",
    "        )"
   ]
  },
  {
   "cell_type": "code",
   "execution_count": 11,
   "id": "SjxM6LGb8ssE",
   "metadata": {
    "colab": {
     "base_uri": "https://localhost:8080/",
     "height": 455
    },
    "collapsed": true,
    "executionInfo": {
     "elapsed": 514453,
     "status": "ok",
     "timestamp": 1754961791711,
     "user": {
      "displayName": "Nikita Novikov",
      "userId": "15013732921515692014"
     },
     "user_tz": 240
    },
    "id": "SjxM6LGb8ssE",
    "outputId": "a992bdff-7172-4852-e2ed-cb3852f2057d"
   },
   "outputs": [
    {
     "name": "stdout",
     "output_type": "stream",
     "text": [
      "Model saved to G:\\Мой диск\\repo\\pytorch_test\\model\\rates_2pop_1mat\\rates_ws_1_nw_100_wsel_2_npts_5000_rmarg_0.01_seed_113\\nhid_2_szhid_64_batch_128_lr_0.0010_ep_2000_alpha_0.5_beta_0.1_lam_0.0_marg_0.3_split_0.pth\n"
     ]
    }
   ],
   "source": [
    "import os\n",
    "\n",
    "dirpath_out = dirpath_root / 'model' / 'rates_2pop_1mat' / fname\n",
    "os.makedirs(dirpath_out, exist_ok=True)\n",
    "\n",
    "# Save the trained model\n",
    "fname_model = (\n",
    "    f'nhid_{NLAYERS_HID}_szhid_{HIDDEN_SZ}_'\n",
    "    f'batch_{BATCH_SIZE}_lr_{LR:.04f}_ep_{EPOCHS}_'\n",
    "    f'alpha_{ALPHA}_beta_{BETA}_lam_{LAM}_marg_{MARGIN}_'\n",
    "    f'split_{SPLIT_SEED}.pth'\n",
    ")\n",
    "fpath_model = dirpath_out / fname_model\n",
    "torch.save(model.state_dict(), fpath_model)\n",
    "print(f\"Model saved to {fpath_model}\")"
   ]
  },
  {
   "cell_type": "code",
   "execution_count": 12,
   "id": "a2f3226d",
   "metadata": {},
   "outputs": [],
   "source": [
    "res = {\n",
    "    'train': {'Xtens': X_train, 'ytens': y_train},   # pytorch tensors\n",
    "    'test': {'Xtens': X_test, 'ytens': y_test}\n",
    "}\n",
    "\n",
    "# Apply trained todel to the train and test sets\n",
    "model.eval()\n",
    "with torch.inference_mode():\n",
    "    for _, res_ in res.items():\n",
    "        res_['yK'], res_['pi'], _ = model(res_['Xtens'])\n",
    "\n",
    "# Pytorch tensors to numpy\n",
    "for _, res_ in res.items():\n",
    "    res_['yK'] = res_['yK'].cpu().numpy()\n",
    "    res_['pi'] = res_['pi'].cpu().numpy()\n",
    "    res_['X'] = res_['Xtens'].cpu().numpy()\n",
    "    res_['y'] = res_['ytens'].cpu().numpy()"
   ]
  },
  {
   "cell_type": "code",
   "execution_count": 20,
   "id": "959f38e2",
   "metadata": {},
   "outputs": [
    {
     "name": "stdout",
     "output_type": "stream",
     "text": [
      "train:\t [0.1664 0.3568 0.9125 0.3588 0.9255 0.2315 0.8614 0.054  0.1553 0.0673]\n",
      "test:\t [0.8748 0.4767 4.1698 0.3787 0.0275 0.0848 1.9389 0.0531 0.1936 0.4729]\n"
     ]
    }
   ],
   "source": [
    "# Calculate error\n",
    "for name, res_ in res.items():\n",
    "    y_, yK_ = res_['y'], res_['yK']\n",
    "    #err = np.sqrt(np.sum((rr - y) ** 2, axis=-1))\n",
    "    err = np.sqrt(np.sum((y_.reshape((-1, 1, 2)) - yK_) ** 2, axis=-1)).min(axis=1)\n",
    "    res_['err'] = err\n",
    "    print(f'{name}:\\t', np.round(err[:10], 4))\n",
    "\n",
    "#y = np.zeros_like(rr)\n",
    "#mask = pi[:, 0] > pi[:, 1]\n",
    "#y[mask, :] = yK[mask, 0, :]\n",
    "#y[~mask, :] = yK[~mask, 1, :]\n",
    "\n",
    "#res = np.concatenate((rr, y), axis=1)\n",
    "#print(np.round(res[:10, :], 3))"
   ]
  },
  {
   "cell_type": "code",
   "execution_count": 46,
   "id": "nsHJmCC36mpB",
   "metadata": {
    "colab": {
     "base_uri": "https://localhost:8080/",
     "height": 486
    },
    "executionInfo": {
     "elapsed": 511,
     "status": "ok",
     "timestamp": 1754962119387,
     "user": {
      "displayName": "Nikita Novikov",
      "userId": "15013732921515692014"
     },
     "user_tz": 240
    },
    "id": "nsHJmCC36mpB",
    "outputId": "53a39969-335e-4a5a-9fc0-930b615789b1"
   },
   "outputs": [
    {
     "data": {
      "image/png": "[encoded data removed]",
      "text/plain": [
       "<Figure size 800x600 with 1 Axes>"
      ]
     },
     "metadata": {},
     "output_type": "display_data"
    }
   ],
   "source": [
    "#pi_max = np.max(pi, axis=-1)\n",
    "\n",
    "sample_name = 'train'\n",
    "#sample_name = 'test'\n",
    "\n",
    "res_ = res[sample_name]\n",
    "\n",
    "#s = 1\n",
    "s = res_['err']\n",
    "#c = err\n",
    "#s = pi_max * 5\n",
    "#c = pi_max\n",
    "#s = pi[:, 0] * 5\n",
    "c = res_['pi'][:, 0]\n",
    "\n",
    "plt.figure(figsize=(8, 6))\n",
    "#plt.figure(figsize=(12, 5))\n",
    "#plt.subplot(1, 2, 1)\n",
    "#plt.scatter(y_train[:, 0], y_train[:, 1], s=s, c=c)\n",
    "#plt.xlabel('r1')\n",
    "#plt.ylabel('r2')\n",
    "#plt.colorbar()\n",
    "#plt.subplot(1, 2, 2)\n",
    "plt.scatter(res_['X'][:, 0], res_['X'][:, 1], s=s, c=c)\n",
    "plt.xlabel('h1')\n",
    "plt.ylabel('h2')\n",
    "m = 7\n",
    "plt.xlim(-m, m)\n",
    "plt.ylim(-m, m)\n",
    "#plt.colorbar(label='pi_0')\n",
    "plt.title(f'Sample: {sample_name}, size=err, col=pi_0')\n",
    "plt.show()"
   ]
  },
  {
   "cell_type": "code",
   "execution_count": 53,
   "id": "b957337f",
   "metadata": {},
   "outputs": [
    {
     "data": {
      "image/png": "[encoded data removed]",
      "text/plain": [
       "<Figure size 800x600 with 1 Axes>"
      ]
     },
     "metadata": {},
     "output_type": "display_data"
    }
   ],
   "source": [
    "#sample_name = 'train'\n",
    "sample_name = 'test'\n",
    "res_ = res[sample_name]\n",
    "\n",
    "cols = np.clip(res_['y'] / 10, 0, 1)\n",
    "cols = np.hstack((cols, np.zeros((cols.shape[0], 1))))\n",
    "\n",
    "#s = 2\n",
    "s = res_['err'] * 3\n",
    "\n",
    "plt.figure(figsize=(8, 6))\n",
    "plt.scatter(res_['X'][:, 0], res_['X'][:, 1], s=s, c=cols)\n",
    "plt.xlabel('h1')\n",
    "plt.ylabel('h2')\n",
    "m = 7\n",
    "plt.xlim(-m, m)\n",
    "plt.ylim(-m, m)\n",
    "#plt.colorbar(label='pi_0')\n",
    "plt.title(f'Sample: {sample_name}')\n",
    "plt.show()"
   ]
  }
 ],
 "metadata": {
  "accelerator": "GPU",
  "colab": {
   "gpuType": "T4",
   "provenance": [
    {
     "file_id": "1I_39OoxlQn8xHXHET_XMqkgnoIgkwI68",
     "timestamp": 1754959164670
    },
    {
     "file_id": "1NcCjijmLaGtq1TdukZqMIbtpRDabpuBC",
     "timestamp": 1752295262820
    }
   ]
  },
  "kernelspec": {
   "display_name": "pytorch2",
   "language": "python",
   "name": "python3"
  },
  "language_info": {
   "codemirror_mode": {
    "name": "ipython",
    "version": 3
   },
   "file_extension": ".py",
   "mimetype": "text/x-python",
   "name": "python",
   "nbconvert_exporter": "python",
   "pygments_lexer": "ipython3",
   "version": "3.11.11"
  }
 },
 "nbformat": 4,
 "nbformat_minor": 5
}
