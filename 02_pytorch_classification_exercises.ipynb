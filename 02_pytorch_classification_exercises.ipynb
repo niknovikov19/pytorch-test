{
 "cells": [
  {
   "cell_type": "markdown",
   "metadata": {
    "id": "ZKJFt7YxH8yl"
   },
   "source": [
    "# 02. PyTorch Classification Exercises\n",
    "\n",
    "The following is a template for 02. PyTorch Classification exercises.\n",
    "\n",
    "It's only starter code and it's your job to fill in the blanks.\n",
    "\n",
    "Because of the flexibility of PyTorch, there may be more than one way to answer the question.\n",
    "\n",
    "Don't worry about trying to be *right* just try writing code that suffices the question.\n",
    "\n",
    "## Resources\n",
    "* These exercises are based on [notebook 02 of the learn PyTorch course](https://www.learnpytorch.io/02_pytorch_classification/).\n",
    "* You can see one form of [solutions on GitHub](https://github.com/mrdbourke/pytorch-deep-learning/tree/main/extras/solutions) (but try the exercises below yourself first!)."
   ]
  },
  {
   "cell_type": "code",
   "execution_count": 107,
   "metadata": {
    "colab": {
     "base_uri": "https://localhost:8080/"
    },
    "executionInfo": {
     "elapsed": 7162,
     "status": "ok",
     "timestamp": 1744065303731,
     "user": {
      "displayName": "Nikita Novikov",
      "userId": "15013732921515692014"
     },
     "user_tz": 240
    },
    "id": "CSrUPgapO0tf",
    "outputId": "95f7617d-ae7e-4d8c-9afe-9551f1f2232d"
   },
   "outputs": [
    {
     "name": "stdout",
     "output_type": "stream",
     "text": [
      "Device: cpu\n"
     ]
    }
   ],
   "source": [
    "# Import torch\n",
    "import torch\n",
    "\n",
    "# Make device agnostic code\n",
    "device = \"cuda\" if torch.cuda.is_available() else \"cpu\"\n",
    "print(f\"Device: {device}\")\n",
    "\n",
    "# Setup random seed\n",
    "RANDOM_SEED = 42"
   ]
  },
  {
   "cell_type": "markdown",
   "metadata": {
    "id": "pH7jIZ2SPFee"
   },
   "source": [
    "## 1. Make a binary classification dataset with Scikit-Learn's [`make_moons()`](https://scikit-learn.org/stable/modules/generated/sklearn.datasets.make_moons.html) function.\n",
    "  * For consistency, the dataset should have 1000 samples and a `random_state=42`.\n",
    "  * Turn the data into PyTorch tensors.\n",
    "  * Split the data into training and test sets using `train_test_split` with 80% training and 20% testing."
   ]
  },
  {
   "cell_type": "code",
   "execution_count": 108,
   "metadata": {
    "colab": {
     "base_uri": "https://localhost:8080/"
    },
    "executionInfo": {
     "elapsed": 13,
     "status": "ok",
     "timestamp": 1744065898461,
     "user": {
      "displayName": "Nikita Novikov",
      "userId": "15013732921515692014"
     },
     "user_tz": 240
    },
    "id": "5t4VhPV1PX1X",
    "outputId": "198f9daa-fd24-4906-ca6a-d8e449a131b5"
   },
   "outputs": [
    {
     "name": "stdout",
     "output_type": "stream",
     "text": [
      "X shape: (1000, 2)\n",
      "y shape: (1000,)\n"
     ]
    }
   ],
   "source": [
    "# Create a dataset with Scikit-Learn's make_moons()\n",
    "from sklearn.datasets import make_moons\n",
    "\n",
    "n_samples = 1000\n",
    "\n",
    "X_, y_ = make_moons(n_samples=n_samples, shuffle=True, noise=0.1,\n",
    "                    random_state=RANDOM_SEED)\n",
    "\n",
    "print(f\"X shape: {X_.shape}\")\n",
    "print(f\"y shape: {y_.shape}\")\n"
   ]
  },
  {
   "cell_type": "code",
   "execution_count": 109,
   "metadata": {
    "colab": {
     "base_uri": "https://localhost:8080/",
     "height": 206
    },
    "executionInfo": {
     "elapsed": 33,
     "status": "ok",
     "timestamp": 1744065911090,
     "user": {
      "displayName": "Nikita Novikov",
      "userId": "15013732921515692014"
     },
     "user_tz": 240
    },
    "id": "SUeHZ3-3P9C7",
    "outputId": "4dc2162a-64c6-4747-c14f-e5feb8d8c336"
   },
   "outputs": [
    {
     "data": {
      "application/vnd.microsoft.datawrangler.viewer.v0+json": {
       "columns": [
        {
         "name": "index",
         "rawType": "int64",
         "type": "integer"
        },
        {
         "name": "X1",
         "rawType": "float64",
         "type": "float"
        },
        {
         "name": "X2",
         "rawType": "float64",
         "type": "float"
        },
        {
         "name": "y",
         "rawType": "int64",
         "type": "integer"
        }
       ],
       "ref": "9b91813c-d448-4219-b0c6-a663afdf80bd",
       "rows": [
        [
         "0",
         "-0.05146967571016664",
         "0.4441986308046334",
         "1"
        ],
        [
         "1",
         "1.032016906500432",
         "-0.41974115743074153",
         "1"
        ],
        [
         "2",
         "0.8678918640664149",
         "-0.2548271144008464",
         "1"
        ],
        [
         "3",
         "0.28885099651430135",
         "-0.4486686208928286",
         "1"
        ],
        [
         "4",
         "-0.8334391077718023",
         "0.5350566494415666",
         "0"
        ]
       ],
       "shape": {
        "columns": 3,
        "rows": 5
       }
      },
      "text/html": [
       "<div>\n",
       "<style scoped>\n",
       "    .dataframe tbody tr th:only-of-type {\n",
       "        vertical-align: middle;\n",
       "    }\n",
       "\n",
       "    .dataframe tbody tr th {\n",
       "        vertical-align: top;\n",
       "    }\n",
       "\n",
       "    .dataframe thead th {\n",
       "        text-align: right;\n",
       "    }\n",
       "</style>\n",
       "<table border=\"1\" class=\"dataframe\">\n",
       "  <thead>\n",
       "    <tr style=\"text-align: right;\">\n",
       "      <th></th>\n",
       "      <th>X1</th>\n",
       "      <th>X2</th>\n",
       "      <th>y</th>\n",
       "    </tr>\n",
       "  </thead>\n",
       "  <tbody>\n",
       "    <tr>\n",
       "      <th>0</th>\n",
       "      <td>-0.051470</td>\n",
       "      <td>0.444199</td>\n",
       "      <td>1</td>\n",
       "    </tr>\n",
       "    <tr>\n",
       "      <th>1</th>\n",
       "      <td>1.032017</td>\n",
       "      <td>-0.419741</td>\n",
       "      <td>1</td>\n",
       "    </tr>\n",
       "    <tr>\n",
       "      <th>2</th>\n",
       "      <td>0.867892</td>\n",
       "      <td>-0.254827</td>\n",
       "      <td>1</td>\n",
       "    </tr>\n",
       "    <tr>\n",
       "      <th>3</th>\n",
       "      <td>0.288851</td>\n",
       "      <td>-0.448669</td>\n",
       "      <td>1</td>\n",
       "    </tr>\n",
       "    <tr>\n",
       "      <th>4</th>\n",
       "      <td>-0.833439</td>\n",
       "      <td>0.535057</td>\n",
       "      <td>0</td>\n",
       "    </tr>\n",
       "  </tbody>\n",
       "</table>\n",
       "</div>"
      ],
      "text/plain": [
       "         X1        X2  y\n",
       "0 -0.051470  0.444199  1\n",
       "1  1.032017 -0.419741  1\n",
       "2  0.867892 -0.254827  1\n",
       "3  0.288851 -0.448669  1\n",
       "4 -0.833439  0.535057  0"
      ]
     },
     "execution_count": 109,
     "metadata": {},
     "output_type": "execute_result"
    }
   ],
   "source": [
    "# Turn data into a DataFrame\n",
    "import pandas as pd\n",
    "\n",
    "df = pd.DataFrame({\n",
    "    'X1': X_[:, 0],\n",
    "    'X2': X_[:, 1],\n",
    "    'y': y_\n",
    "})\n",
    "\n",
    "df.head()"
   ]
  },
  {
   "cell_type": "code",
   "execution_count": 1,
   "metadata": {
    "colab": {
     "base_uri": "https://localhost:8080/",
     "height": 430
    },
    "executionInfo": {
     "elapsed": 504,
     "status": "ok",
     "timestamp": 1744065919776,
     "user": {
      "displayName": "Nikita Novikov",
      "userId": "15013732921515692014"
     },
     "user_tz": 240
    },
    "id": "owrkPSFvQPFI",
    "outputId": "ecd334d1-7ed7-4838-e494-12699ef8a8d0"
   },
   "outputs": [
    {
     "ename": "NameError",
     "evalue": "name 'X_' is not defined",
     "output_type": "error",
     "traceback": [
      "\u001b[1;31m---------------------------------------------------------------------------\u001b[0m",
      "\u001b[1;31mNameError\u001b[0m                                 Traceback (most recent call last)",
      "Cell \u001b[1;32mIn[1], line 4\u001b[0m\n\u001b[0;32m      1\u001b[0m \u001b[38;5;66;03m# Visualize the data on a scatter plot\u001b[39;00m\n\u001b[0;32m      2\u001b[0m \u001b[38;5;28;01mimport\u001b[39;00m \u001b[38;5;21;01mmatplotlib\u001b[39;00m\u001b[38;5;21;01m.\u001b[39;00m\u001b[38;5;21;01mpyplot\u001b[39;00m \u001b[38;5;28;01mas\u001b[39;00m \u001b[38;5;21;01mplt\u001b[39;00m\n\u001b[1;32m----> 4\u001b[0m plt\u001b[38;5;241m.\u001b[39mscatter(X_[:, \u001b[38;5;241m0\u001b[39m], X_[:, \u001b[38;5;241m1\u001b[39m], c\u001b[38;5;241m=\u001b[39my_, s\u001b[38;5;241m=\u001b[39m\u001b[38;5;241m40\u001b[39m, cmap\u001b[38;5;241m=\u001b[39mplt\u001b[38;5;241m.\u001b[39mcm\u001b[38;5;241m.\u001b[39mRdYlBu)\n\u001b[0;32m      5\u001b[0m plt\u001b[38;5;241m.\u001b[39mshow()\n",
      "\u001b[1;31mNameError\u001b[0m: name 'X_' is not defined"
     ]
    }
   ],
   "source": [
    "# Visualize the data on a scatter plot\n",
    "import matplotlib.pyplot as plt\n",
    "\n",
    "plt.scatter(X_[:, 0], X_[:, 1], c=y_, s=40, cmap=plt.cm.RdYlBu)\n",
    "plt.show()\n"
   ]
  },
  {
   "cell_type": "code",
   "execution_count": 111,
   "metadata": {
    "colab": {
     "base_uri": "https://localhost:8080/"
    },
    "executionInfo": {
     "elapsed": 7,
     "status": "ok",
     "timestamp": 1744065932133,
     "user": {
      "displayName": "Nikita Novikov",
      "userId": "15013732921515692014"
     },
     "user_tz": 240
    },
    "id": "bDhyHn9fR4dq",
    "outputId": "73a2f11f-9fb3-40e4-9649-2b60e8c886f6"
   },
   "outputs": [
    {
     "name": "stdout",
     "output_type": "stream",
     "text": [
      "X_train shape: torch.Size([800, 2])\n",
      "y_train shape: torch.Size([800])\n",
      "X_test shape: torch.Size([200, 2])\n",
      "y_test shape: torch.Size([200])\n"
     ]
    }
   ],
   "source": [
    "import numpy as np\n",
    "from sklearn.model_selection import train_test_split\n",
    "\n",
    "# Turn data into tensors of dtype float\n",
    "X = torch.from_numpy(X_).type(torch.float)\n",
    "y = torch.from_numpy(y_).type(torch.float)\n",
    "\n",
    "# Split the data into train and test sets (80% train, 20% test)\n",
    "X_train, X_test, y_train, y_test = train_test_split(\n",
    "    X, y, test_size=0.2, random_state=RANDOM_SEED\n",
    ")\n",
    "\n",
    "print(f\"X_train shape: {X_train.shape}\")\n",
    "print(f\"y_train shape: {y_train.shape}\")\n",
    "print(f\"X_test shape: {X_test.shape}\")\n",
    "print(f\"y_test shape: {y_test.shape}\")"
   ]
  },
  {
   "cell_type": "markdown",
   "metadata": {
    "id": "cMIjxZdzQfPz"
   },
   "source": [
    "## 2. Build a model by subclassing `nn.Module` that incorporates non-linear activation functions and is capable of fitting the data you created in 1.\n",
    "  * Feel free to use any combination of PyTorch layers (linear and non-linear) you want."
   ]
  },
  {
   "cell_type": "code",
   "execution_count": 112,
   "metadata": {
    "colab": {
     "base_uri": "https://localhost:8080/"
    },
    "executionInfo": {
     "elapsed": 53,
     "status": "ok",
     "timestamp": 1744066689430,
     "user": {
      "displayName": "Nikita Novikov",
      "userId": "15013732921515692014"
     },
     "user_tz": 240
    },
    "id": "hwtyvm34Ri6Q",
    "outputId": "bc8ef711-bbb3-4e11-e762-b8786539e404"
   },
   "outputs": [
    {
     "name": "stdout",
     "output_type": "stream",
     "text": [
      "MoonModelV0(\n",
      "  (layer_stack): Sequential(\n",
      "    (0): Linear(in_features=2, out_features=10, bias=True)\n",
      "    (1): Linear(in_features=10, out_features=10, bias=True)\n",
      "    (2): ReLU()\n",
      "    (3): Linear(in_features=10, out_features=1, bias=True)\n",
      "  )\n",
      ")\n"
     ]
    }
   ],
   "source": [
    "import torch\n",
    "from torch import nn\n",
    "\n",
    "# Inherit from nn.Module to make a model capable of fitting the mooon data\n",
    "class MoonModelV0(nn.Module):\n",
    "    def __init__(self, n_inp_features, n_out_features,\n",
    "                 n_hid_layers=1, n_hid_neurons=10):\n",
    "        super().__init__()\n",
    "        # Input layers\n",
    "        layers_in = [\n",
    "            nn.Linear(n_inp_features, n_hid_neurons),\n",
    "            #nn.ReLU()\n",
    "        ]\n",
    "        # Output layers\n",
    "        layers_out = [\n",
    "            nn.Linear(n_hid_neurons, n_out_features),\n",
    "            #nn.Sigmoid()\n",
    "        ]\n",
    "        # Hidden layers\n",
    "        layers_hid = []\n",
    "        for _ in range(n_hid_layers):\n",
    "            layers_hid.append(nn.Linear(n_hid_neurons, n_hid_neurons))\n",
    "            layers_hid.append(nn.ReLU())\n",
    "        layers = layers_in + layers_hid + layers_out\n",
    "        # Stack together\n",
    "        self.layer_stack = nn.Sequential(*layers)\n",
    "\n",
    "    def forward(self, x: torch.Tensor) -> torch.Tensor:\n",
    "        return self.layer_stack(x)\n",
    "\n",
    "# Instantiate the model\n",
    "model = MoonModelV0(n_inp_features=2, n_out_features=1).to(device)\n",
    "print(model)\n",
    "#print(model.state_dict())"
   ]
  },
  {
   "cell_type": "code",
   "execution_count": 16,
   "metadata": {},
   "outputs": [
    {
     "data": {
      "text/plain": [
       "[('layer_stack.0.weight',\n",
       "  Parameter containing:\n",
       "  tensor([[ 0.3553,  0.3284],\n",
       "          [-0.2839, -0.2806],\n",
       "          [-0.5853,  0.5707],\n",
       "          [-0.6794, -0.0119],\n",
       "          [ 0.3806,  0.4721],\n",
       "          [ 0.0487, -0.5686],\n",
       "          [ 0.6029,  0.3304],\n",
       "          [-0.2359,  0.6463],\n",
       "          [ 0.4211, -0.4297],\n",
       "          [-0.6664,  0.7033]], requires_grad=True)),\n",
       " ('layer_stack.0.bias',\n",
       "  Parameter containing:\n",
       "  tensor([ 0.3604, -0.5882,  0.2805, -0.2586, -0.3670, -0.5477,  0.2045, -0.5046,\n",
       "          -0.2906, -0.2722], requires_grad=True)),\n",
       " ('layer_stack.1.weight',\n",
       "  Parameter containing:\n",
       "  tensor([[-0.1543,  0.0593, -0.1730, -0.2619, -0.1659,  0.2498, -0.1516, -0.2695,\n",
       "           -0.3078, -0.1153],\n",
       "          [ 0.2781,  0.1884, -0.2015, -0.0104,  0.0979,  0.0994, -0.1841,  0.2330,\n",
       "           -0.2802,  0.0100],\n",
       "          [ 0.2416, -0.0577, -0.1264,  0.0875,  0.0408,  0.2364,  0.1430,  0.0882,\n",
       "           -0.1534, -0.2732],\n",
       "          [-0.0705,  0.2259,  0.0565, -0.1145,  0.0211,  0.0912, -0.1768, -0.1618,\n",
       "            0.1737, -0.0426],\n",
       "          [ 0.1174,  0.0571,  0.1809,  0.3033,  0.1004,  0.2739, -0.0545, -0.0615,\n",
       "            0.2694, -0.1960],\n",
       "          [-0.3091,  0.1387, -0.1894, -0.2896,  0.1789, -0.0192, -0.0692, -0.2727,\n",
       "            0.2976,  0.2140],\n",
       "          [ 0.2889,  0.3083, -0.1887, -0.1033,  0.1624, -0.0671, -0.1564, -0.1502,\n",
       "           -0.2618, -0.2805],\n",
       "          [ 0.1777, -0.2261,  0.1704, -0.0830,  0.1183,  0.2053,  0.2919, -0.0729,\n",
       "            0.1823,  0.1845],\n",
       "          [-0.2341,  0.1164,  0.1884,  0.1682,  0.2277, -0.2014,  0.1465,  0.2100,\n",
       "            0.2061, -0.2650],\n",
       "          [ 0.0676,  0.2943, -0.2440,  0.0200, -0.0108,  0.2335,  0.0758,  0.2433,\n",
       "            0.1263, -0.1306]], requires_grad=True)),\n",
       " ('layer_stack.1.bias',\n",
       "  Parameter containing:\n",
       "  tensor([-0.0870, -0.0700,  0.2511,  0.1563, -0.1612,  0.0291,  0.0410,  0.2334,\n",
       "          -0.2018,  0.0134], requires_grad=True)),\n",
       " ('layer_stack.3.weight',\n",
       "  Parameter containing:\n",
       "  tensor([[ 0.2538, -0.2788, -0.1203, -0.2377, -0.0874, -0.2025, -0.2237,  0.2480,\n",
       "            0.1205, -0.0354]], requires_grad=True)),\n",
       " ('layer_stack.3.bias',\n",
       "  Parameter containing:\n",
       "  tensor([0.2509], requires_grad=True))]"
      ]
     },
     "execution_count": 16,
     "metadata": {},
     "output_type": "execute_result"
    }
   ],
   "source": [
    "list(model.named_parameters())"
   ]
  },
  {
   "cell_type": "markdown",
   "metadata": {
    "id": "DSj97RwyVeFE"
   },
   "source": [
    "## 3. Setup a binary classification compatible loss function and optimizer to use when training the model built in 2."
   ]
  },
  {
   "cell_type": "code",
   "execution_count": null,
   "metadata": {
    "id": "whSGw5qgVvxU"
   },
   "outputs": [],
   "source": [
    "# Setup loss function\n",
    "loss_fn = nn.BCEWithLogitsLoss()\n",
    "\n",
    "# Setup optimizer to optimize model's parameters\n",
    "#optimizer = torch.optim.SGD(model.parameters(), lr=0.01)"
   ]
  },
  {
   "cell_type": "markdown",
   "metadata": {
    "id": "nvk4PfNTWUAt"
   },
   "source": [
    "## 4. Create a training and testing loop to fit the model you created in 2 to the data you created in 1.\n",
    "  * Do a forward pass of the model to see what's coming out in the form of logits, prediction probabilities and labels.\n",
    "  * To measure model accuracy, you can create your own accuracy function or use the accuracy function in [TorchMetrics](https://torchmetrics.readthedocs.io/en/latest/).\n",
    "  * Train the model for long enough for it to reach over 96% accuracy.\n",
    "  * The training loop should output progress every 10 epochs of the model's training and test set loss and accuracy."
   ]
  },
  {
   "cell_type": "code",
   "execution_count": 134,
   "metadata": {
    "colab": {
     "base_uri": "https://localhost:8080/"
    },
    "id": "AgnFdlamd2-D",
    "outputId": "627d8c33-071e-4925-f18b-5d5ba6126729"
   },
   "outputs": [
    {
     "name": "stdout",
     "output_type": "stream",
     "text": [
      "Logits:\n",
      "tensor([[ 1.5761, -0.4344,  2.4235, -1.4729,  2.7358,  2.7346,  0.6994,  1.0503,\n",
      "          2.5780]])\n",
      "Pred probs:\n",
      "tensor([[0.8286, 0.3931, 0.9186, 0.1865, 0.9391, 0.9390, 0.6681, 0.7408, 0.9294]])\n",
      "Pred labels:\n",
      "tensor([[1, 0, 1, 0, 1, 1, 1, 1, 1]], dtype=torch.int32)\n"
     ]
    }
   ],
   "source": [
    "# What's coming out of our model?\n",
    "\n",
    "# logits (raw outputs of model)\n",
    "print(\"Logits:\")\n",
    "ypred = model.forward(X_test[:9]).data.T\n",
    "print(ypred)\n",
    "\n",
    "# Prediction probabilities\n",
    "print(\"Pred probs:\")\n",
    "yprob = torch.sigmoid(ypred)\n",
    "print(yprob)\n",
    "\n",
    "# Prediction labels\n",
    "print(\"Pred labels:\")\n",
    "ylabels = (yprob > 0.5).int()\n",
    "print(ylabels)"
   ]
  },
  {
   "cell_type": "code",
   "execution_count": 114,
   "metadata": {
    "id": "rUSDNHB4euoJ"
   },
   "outputs": [
    {
     "data": {
      "text/plain": [
       "MulticlassAccuracy()"
      ]
     },
     "execution_count": 114,
     "metadata": {},
     "output_type": "execute_result"
    }
   ],
   "source": [
    "# Let's calculuate the accuracy using accuracy from TorchMetrics\n",
    "#!pip -q install torchmetrics # Colab doesn't come with torchmetrics\n",
    "from torchmetrics import Accuracy\n",
    "\n",
    "acc_fn = Accuracy(task=\"multiclass\", num_classes=2).to(device) # send accuracy function to device\n",
    "acc_fn"
   ]
  },
  {
   "cell_type": "code",
   "execution_count": 135,
   "metadata": {
    "id": "SHBY3h7XXnxt"
   },
   "outputs": [
    {
     "name": "stdout",
     "output_type": "stream",
     "text": [
      "Epoch: 0 | Loss: 0.30673, Accuracy: 0.86% | Test loss: 0.31716, Test acc: 0.84%\n",
      "Epoch: 100 | Loss: 0.24515, Accuracy: 0.89% | Test loss: 0.24328, Test acc: 0.89%\n",
      "Epoch: 200 | Loss: 0.23409, Accuracy: 0.89% | Test loss: 0.22913, Test acc: 0.91%\n",
      "Epoch: 300 | Loss: 0.22171, Accuracy: 0.90% | Test loss: 0.21643, Test acc: 0.91%\n",
      "Epoch: 400 | Loss: 0.20384, Accuracy: 0.91% | Test loss: 0.19845, Test acc: 0.92%\n",
      "Epoch: 500 | Loss: 0.17830, Accuracy: 0.92% | Test loss: 0.17261, Test acc: 0.92%\n",
      "Epoch: 600 | Loss: 0.14426, Accuracy: 0.94% | Test loss: 0.13725, Test acc: 0.94%\n",
      "Epoch: 700 | Loss: 0.10711, Accuracy: 0.96% | Test loss: 0.09906, Test acc: 0.98%\n",
      "Epoch: 800 | Loss: 0.07699, Accuracy: 0.98% | Test loss: 0.06848, Test acc: 0.99%\n",
      "Epoch: 900 | Loss: 0.05666, Accuracy: 0.99% | Test loss: 0.04846, Test acc: 1.00%\n"
     ]
    }
   ],
   "source": [
    "#torch.manual_seed(RANDOM_SEED)\n",
    "\n",
    "# Optimizer\n",
    "lr = 0.1\n",
    "optimizer = torch.optim.SGD(model.parameters(), lr=lr)\n",
    "\n",
    "# Setup epochs\n",
    "num_epochs = 1000\n",
    "\n",
    "# Send data to the device\n",
    "X_train, y_train = X_train.to(device), y_train.to(device)\n",
    "X_test, y_test = X_test.to(device), y_test.to(device)\n",
    "\n",
    "# Loop through the data\n",
    "for epoch in range(num_epochs):\n",
    "    ### Training\n",
    "    model.train()   # switch to training mode\n",
    "\n",
    "    # 1. Forward pass (logits output)\n",
    "    y_logits = model.forward(X_train).squeeze()\n",
    "    # Turn logits into prediction probabilities\n",
    "    y_probs = torch.sigmoid(y_logits)\n",
    "    # Turn prediction probabilities into prediction labels\n",
    "    y_pred = (y_probs > 0.5).int()\n",
    "\n",
    "    # 2. Calculaute the loss\n",
    "    loss = loss_fn(y_logits, y_train)   # BCEWithLogitsLoss applies sigmoid by itself\n",
    "    # Calculate the accuracy\n",
    "    acc = acc_fn(y_pred, y_train.int()) # the accuracy function needs to compare pred labels (not logits) with actual labels\n",
    "\n",
    "    # 3. Zero the gradients\n",
    "    optimizer.zero_grad()\n",
    "\n",
    "    # 4. Loss backward (perform backpropagation)\n",
    "    # Loss is a tensor with grad_fn property, pointing to the computation tree\n",
    "    loss.backward()\n",
    "\n",
    "    # 5. Step the optimizer (gradient descent)\n",
    "    optimizer.step()\n",
    "\n",
    "    ### Testing\n",
    "    model.eval()   # switch to evaluation mode\n",
    "    with torch.inference_mode():\n",
    "        # 1. Forward pass (to get the logits)\n",
    "        test_logits = model.forward(X_test).squeeze()\n",
    "\n",
    "        # Turn the test logits into prediction labels\n",
    "        test_pred = (torch.sigmoid(test_logits) > 0.5).int()\n",
    "\n",
    "        # 2. Caculate the test loss/acc\n",
    "        test_loss = loss_fn(test_logits, y_test)\n",
    "        test_acc = acc_fn(test_pred, y_test.int())\n",
    "\n",
    "    # Print out what's happening every 100 epochs\n",
    "    if epoch % 100 == 0:\n",
    "        print(f'Epoch: {epoch} | '\n",
    "              f'Loss: {loss:.5f}, Accuracy: {acc:.2f}% | '\n",
    "              f'Test loss: {test_loss:.5f}, Test acc: {test_acc:.2f}%')\n"
   ]
  },
  {
   "cell_type": "markdown",
   "metadata": {
    "id": "8Nwihtomj9JO"
   },
   "source": [
    "## 5. Make predictions with your trained model and plot them using the `plot_decision_boundary()` function created in this notebook."
   ]
  },
  {
   "cell_type": "code",
   "execution_count": 136,
   "metadata": {
    "id": "0YRzatb8a1P2"
   },
   "outputs": [],
   "source": [
    "# Plot the model predictions\n",
    "import numpy as np\n",
    "\n",
    "def plot_decision_boundary(model, X, y):\n",
    "\n",
    "    # Put everything to CPU (works better with NumPy + Matplotlib)\n",
    "    model.to(\"cpu\")\n",
    "    X, y = X.to(\"cpu\"), y.to(\"cpu\")\n",
    "\n",
    "    # Source - https://madewithml.com/courses/foundations/neural-networks/\n",
    "    # (with modifications)\n",
    "    x_min, x_max = X[:, 0].min() - 0.1, X[:, 0].max() + 0.1\n",
    "    y_min, y_max = X[:, 1].min() - 0.1, X[:, 1].max() + 0.1\n",
    "    xx, yy = np.meshgrid(np.linspace(x_min, x_max, 101),\n",
    "                         np.linspace(y_min, y_max, 101))\n",
    "\n",
    "    # Make features\n",
    "    X_to_pred_on = torch.from_numpy(np.column_stack((xx.ravel(), yy.ravel()))).float()\n",
    "\n",
    "    # Make predictions\n",
    "    model.eval()\n",
    "    with torch.inference_mode():\n",
    "        y_logits = model(X_to_pred_on)\n",
    "\n",
    "    # Test for multi-class or binary and adjust logits to prediction labels\n",
    "    if len(torch.unique(y)) > 2:\n",
    "        y_pred = torch.softmax(y_logits, dim=1).argmax(dim=1) # mutli-class\n",
    "    else:\n",
    "        y_pred = torch.round(torch.sigmoid(y_logits)) # binary\n",
    "\n",
    "    # Reshape preds and plot\n",
    "    y_pred = y_pred.reshape(xx.shape).detach().numpy()\n",
    "    plt.contourf(xx, yy, y_pred, cmap=plt.cm.RdYlBu, alpha=0.7)\n",
    "    plt.scatter(X[:, 0], X[:, 1], c=y, s=40, cmap=plt.cm.RdYlBu)\n",
    "    plt.xlim(xx.min(), xx.max())\n",
    "    plt.ylim(yy.min(), yy.max())"
   ]
  },
  {
   "cell_type": "code",
   "execution_count": 138,
   "metadata": {
    "id": "PMrcpyirig1d"
   },
   "outputs": [
    {
     "data": {
      "image/png": "[encoded data removed]",
      "text/plain": [
       "<Figure size 640x480 with 1 Axes>"
      ]
     },
     "metadata": {},
     "output_type": "display_data"
    }
   ],
   "source": [
    "# Plot decision boundaries for training and test sets\n",
    "#plot_decision_boundary(model, X_train, y_train)\n",
    "plot_decision_boundary(model, X_test, y_test)"
   ]
  },
  {
   "cell_type": "markdown",
   "metadata": {
    "id": "EtMYBvtciiAU"
   },
   "source": [
    "## 6. Replicate the Tanh (hyperbolic tangent) activation function in pure PyTorch.\n",
    "  * Feel free to reference the [ML cheatsheet website](https://ml-cheatsheet.readthedocs.io/en/latest/activation_functions.html#tanh) for the formula."
   ]
  },
  {
   "cell_type": "code",
   "execution_count": null,
   "metadata": {
    "id": "BlXaWC5TkEUE"
   },
   "outputs": [],
   "source": [
    "# Create a straight line tensor\n"
   ]
  },
  {
   "cell_type": "code",
   "execution_count": null,
   "metadata": {
    "id": "vZPCcQmIkZjO"
   },
   "outputs": [],
   "source": [
    "# Test torch.tanh() on the tensor and plot it\n"
   ]
  },
  {
   "cell_type": "code",
   "execution_count": null,
   "metadata": {
    "id": "J-ne__Kjkdc1"
   },
   "outputs": [],
   "source": [
    "# Replicate torch.tanh() and plot it\n"
   ]
  },
  {
   "cell_type": "markdown",
   "metadata": {
    "id": "Lbt1bNcWk5G9"
   },
   "source": [
    "## 7. Create a multi-class dataset using the [spirals data creation function from CS231n](https://cs231n.github.io/neural-networks-case-study/) (see below for the code).\n",
    "  * Split the data into training and test sets (80% train, 20% test) as well as turn it into PyTorch tensors.\n",
    "  * Construct a model capable of fitting the data (you may need a combination of linear and non-linear layers).\n",
    "  * Build a loss function and optimizer capable of handling multi-class data (optional extension: use the Adam optimizer instead of SGD, you may have to experiment with different values of the learning rate to get it working).\n",
    "  * Make a training and testing loop for the multi-class data and train a model on it to reach over 95% testing accuracy (you can use any accuracy measuring function here that you like) - 1000 epochs should be plenty.\n",
    "  * Plot the decision boundaries on the spirals dataset from your model predictions, the `plot_decision_boundary()` function should work for this dataset too."
   ]
  },
  {
   "cell_type": "code",
   "execution_count": null,
   "metadata": {
    "colab": {
     "base_uri": "https://localhost:8080/",
     "height": 265
    },
    "id": "tU-UNZsKlJls",
    "outputId": "8b7b745a-070d-4ecb-c639-c4ee4d8eae06"
   },
   "outputs": [
    {
     "data": {
      "image/png": "[encoded data removed]",
      "text/plain": [
       "<Figure size 432x288 with 1 Axes>"
      ]
     },
     "metadata": {
      "needs_background": "light"
     },
     "output_type": "display_data"
    }
   ],
   "source": [
    "# Code for creating a spiral dataset from CS231n\n",
    "import numpy as np\n",
    "import matplotlib.pyplot as plt\n",
    "RANDOM_SEED = 42\n",
    "np.random.seed(RANDOM_SEED)\n",
    "N = 100 # number of points per class\n",
    "D = 2 # dimensionality\n",
    "K = 3 # number of classes\n",
    "X = np.zeros((N*K,D)) # data matrix (each row = single example)\n",
    "y = np.zeros(N*K, dtype='uint8') # class labels\n",
    "for j in range(K):\n",
    "  ix = range(N*j,N*(j+1))\n",
    "  r = np.linspace(0.0,1,N) # radius\n",
    "  t = np.linspace(j*4,(j+1)*4,N) + np.random.randn(N)*0.2 # theta\n",
    "  X[ix] = np.c_[r*np.sin(t), r*np.cos(t)]\n",
    "  y[ix] = j\n",
    "# lets visualize the data\n",
    "plt.scatter(X[:, 0], X[:, 1], c=y, s=40, cmap=plt.cm.RdYlBu)\n",
    "plt.show()"
   ]
  },
  {
   "cell_type": "code",
   "execution_count": null,
   "metadata": {
    "id": "OWVrmkEyl0VP"
   },
   "outputs": [],
   "source": [
    "# Turn data into tensors\n",
    "import torch\n",
    "X = torch.from_numpy(X).type(torch.float) # features as float32\n",
    "y = torch.from_numpy(y).type(torch.LongTensor) # labels need to be of type long\n",
    "\n",
    "# Create train and test splits\n",
    "from sklearn.model_selection import train_test_split\n"
   ]
  },
  {
   "cell_type": "code",
   "execution_count": null,
   "metadata": {
    "id": "a-v-7f0op0tG"
   },
   "outputs": [],
   "source": [
    "# Let's calculuate the accuracy for when we fit our model\n",
    "!pip -q install torchmetrics # colab doesn't come with torchmetrics\n",
    "from torchmetrics import Accuracy\n",
    "\n",
    "## TODO: uncomment the two lines below to send the accuracy function to the device\n",
    "# acc_fn = Accuracy(task=\"multiclass\", num_classes=4).to(device)\n",
    "# acc_fn"
   ]
  },
  {
   "cell_type": "code",
   "execution_count": null,
   "metadata": {
    "id": "DB3u3ldumapf"
   },
   "outputs": [],
   "source": [
    "# Prepare device agnostic code\n",
    "# device = \"cuda\" if torch.cuda.is_available() else \"cpu\"\n",
    "\n",
    "# Create model by subclassing nn.Module\n",
    "\n",
    "\n",
    "\n",
    "# Instantiate model and send it to device\n"
   ]
  },
  {
   "cell_type": "code",
   "execution_count": null,
   "metadata": {
    "colab": {
     "base_uri": "https://localhost:8080/"
    },
    "id": "QE7XWSSunMTS",
    "outputId": "00b31909-87c9-41e3-9dbb-fb4c4bd3aabd"
   },
   "outputs": [
    {
     "name": "stdout",
     "output_type": "stream",
     "text": [
      "Logits:\n",
      "Pred probs:\n",
      "Pred labels:\n"
     ]
    }
   ],
   "source": [
    "# Setup data to be device agnostic\n",
    "\n",
    "\n",
    "# Print out first 10 untrained model outputs (forward pass)\n",
    "print(\"Logits:\")\n",
    "## Your code here ##\n",
    "\n",
    "print(\"Pred probs:\")\n",
    "## Your code here ##\n",
    "\n",
    "print(\"Pred labels:\")\n",
    "## Your code here ##"
   ]
  },
  {
   "cell_type": "code",
   "execution_count": null,
   "metadata": {
    "id": "54EqLRKLo0AW"
   },
   "outputs": [],
   "source": [
    "# Setup loss function and optimizer\n",
    "# loss_fn =\n",
    "# optimizer ="
   ]
  },
  {
   "cell_type": "code",
   "execution_count": null,
   "metadata": {
    "id": "vIlExkUHnmxi"
   },
   "outputs": [],
   "source": [
    "# Build a training loop for the model\n",
    "\n",
    "# Loop over data\n",
    "\n",
    "\n",
    "  ## Training\n",
    "\n",
    "  # 1. Forward pass\n",
    "\n",
    "\n",
    "  # 2. Calculate the loss\n",
    "\n",
    "\n",
    "  # 3. Optimizer zero grad\n",
    "\n",
    "\n",
    "  # 4. Loss backward\n",
    "\n",
    "\n",
    "  # 5. Optimizer step\n",
    "\n",
    "\n",
    "  ## Testing\n",
    "\n",
    "\n",
    "    # 1. Forward pass\n",
    "\n",
    "    # 2. Caculate loss and acc\n",
    "\n",
    "  # Print out what's happening every 100 epochs\n"
   ]
  },
  {
   "cell_type": "code",
   "execution_count": null,
   "metadata": {
    "id": "JrwVRbaE0keT"
   },
   "outputs": [],
   "source": [
    "# Plot decision boundaries for training and test sets\n"
   ]
  }
 ],
 "metadata": {
  "accelerator": "GPU",
  "colab": {
   "provenance": [
    {
     "file_id": "https://github.com/mrdbourke/pytorch-deep-learning/blob/main/extras/exercises/02_pytorch_classification_exercises.ipynb",
     "timestamp": 1744065260243
    }
   ]
  },
  "kernelspec": {
   "display_name": "pytorch2",
   "language": "python",
   "name": "python3"
  },
  "language_info": {
   "codemirror_mode": {
    "name": "ipython",
    "version": 3
   },
   "file_extension": ".py",
   "mimetype": "text/x-python",
   "name": "python",
   "nbconvert_exporter": "python",
   "pygments_lexer": "ipython3",
   "version": "3.11.11"
  }
 },
 "nbformat": 4,
 "nbformat_minor": 0
}
